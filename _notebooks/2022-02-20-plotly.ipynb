{
 "cells": [
  {
   "cell_type": "markdown",
   "metadata": {},
   "source": [
    "# Interactive Visualization\n",
    "> A tutorial of Plotly.\n",
    "\n",
    "- toc: true \n",
    "- badges: true\n",
    "- comments: true\n",
    "- categories: [jupyter, visualization]\n",
    "- use_plotly: true\n",
    "- sticky_rank: 1\n",
    "- comments: true"
   ]
  },
  {
   "cell_type": "markdown",
   "metadata": {
    "colab": {},
    "colab_type": "code",
    "id": "YCyFedCrd4G8"
   },
   "source": [
    "# 1. Introduction\n",
    "[Plotly](https://plotly.com/python/) is an Python library interactive, open-source plotting library that supports over 40 unique chart types covering a wide range of statistical, financial, geographic, scientific, and 3-dimensional use-cases.\n",
    "\n",
    "Plotly has two important submodules, <code style='font-size:13px;'>plotly.express</code> and <code style='font-size:13px;'>plotly.graph_objects</code>, but this topic focuses on <code style='font-size:13px;'>plotly.express</code> only. It allows quickly creating more than 30 types of charts, each made only in a single function call."
   ]
  },
  {
   "cell_type": "markdown",
   "metadata": {
    "colab": {},
    "colab_type": "code",
    "id": "YCyFedCrd4G8"
   },
   "source": [
    "### Useful scripts\n",
    "\n",
    "To display interactive Plotly charts in Jupyter Lab, it is required to install an extension.\n",
    "```python\n",
    "jupyter labextension install jupyterlab-plotly@4.12.0\n",
    "```\n",
    "\n",
    "To export a chart to a <code style='font-size:13px;'>.html</code> file, use the script below in which <code style='font-size:13px;'>fig</code> is the name of the graph object.\n",
    "```python\n",
    "import plotly\n",
    "plotly.offline.plot(fig, filename='My interactive figure.html')\n",
    "```"
   ]
  },
  {
   "cell_type": "markdown",
   "metadata": {
    "colab_type": "text",
    "id": "ryYoFk7Dd4HE"
   },
   "source": [
    "# 2. Basic charts"
   ]
  },
  {
   "cell_type": "markdown",
   "metadata": {
    "colab_type": "text",
    "id": "48evDhx4d4HF"
   },
   "source": [
    "## 2.1. Pie Chart"
   ]
  },
  {
   "cell_type": "code",
   "execution_count": null,
   "metadata": {
    "colab": {},
    "colab_type": "code",
    "executionInfo": {
     "elapsed": 939,
     "status": "ok",
     "timestamp": 1597735710966,
     "user": {
      "displayName": "Phạm Quang Hưng",
      "photoUrl": "https://lh3.googleusercontent.com/a-/AOh14GjY138HZmN8_dU9tZZwSF551JsTnaeLlp_8-tPmsw=s64",
      "userId": "05531971174725887265"
     },
     "user_tz": -420
    },
    "id": "Q0nVWixud4HG",
    "tags": []
   },
   "outputs": [],
   "source": [
    "import pandas as pd\n",
    "import numpy as np\n",
    "import plotly.express as px\n",
    "import plotly.graph_objects as go\n",
    "from IPython.display import HTML, display\n",
    "# from plotly.offline import init_notebook_mode, iplot\n",
    "# init_notebook_mode(connected = True)"
   ]
  },
  {
   "cell_type": "code",
   "execution_count": null,
   "metadata": {
    "colab": {
     "base_uri": "https://localhost:8080/",
     "height": 204
    },
    "colab_type": "code",
    "executionInfo": {
     "elapsed": 751,
     "status": "ok",
     "timestamp": 1597735714477,
     "user": {
      "displayName": "Phạm Quang Hưng",
      "photoUrl": "https://lh3.googleusercontent.com/a-/AOh14GjY138HZmN8_dU9tZZwSF551JsTnaeLlp_8-tPmsw=s64",
      "userId": "05531971174725887265"
     },
     "user_tz": -420
    },
    "id": "ClTXUcYFd4HL",
    "outputId": "d6aead6c-61d5-4b7f-9dd4-3a69b161ae1a",
    "tags": []
   },
   "outputs": [],
   "source": [
    "dfTip = px.data.tips()\n",
    "dfTip.head()"
   ]
  },
  {
   "cell_type": "code",
   "execution_count": null,
   "metadata": {
    "colab": {
     "base_uri": "https://localhost:8080/",
     "height": 542
    },
    "colab_type": "code",
    "executionInfo": {
     "elapsed": 1916,
     "status": "ok",
     "timestamp": 1597735720031,
     "user": {
      "displayName": "Phạm Quang Hưng",
      "photoUrl": "https://lh3.googleusercontent.com/a-/AOh14GjY138HZmN8_dU9tZZwSF551JsTnaeLlp_8-tPmsw=s64",
      "userId": "05531971174725887265"
     },
     "user_tz": -420
    },
    "id": "TyBK1XNGd4HR",
    "outputId": "67735b30-b868-479a-8e8c-3e6cd46f58a4",
    "tags": []
   },
   "outputs": [],
   "source": [
    "fig = px.pie(dfTip, names='day', values='tip', template='plotly')\n",
    "display(HTML(fig.to_html(include_plotlyjs='cdn')))"
   ]
  },
  {
   "cell_type": "code",
   "execution_count": null,
   "metadata": {
    "colab": {
     "base_uri": "https://localhost:8080/",
     "height": 542
    },
    "colab_type": "code",
    "executionInfo": {
     "elapsed": 1916,
     "status": "ok",
     "timestamp": 1597735720031,
     "user": {
      "displayName": "Phạm Quang Hưng",
      "photoUrl": "https://lh3.googleusercontent.com/a-/AOh14GjY138HZmN8_dU9tZZwSF551JsTnaeLlp_8-tPmsw=s64",
      "userId": "05531971174725887265"
     },
     "user_tz": -420
    },
    "id": "TyBK1XNGd4HR",
    "outputId": "67735b30-b868-479a-8e8c-3e6cd46f58a4",
    "tags": []
   },
   "outputs": [],
   "source": [
    "fig = px.pie(dfTip, names='day', values='tip', template='plotly')\n",
    "fig.show()"
   ]
  }
 ],
 "metadata": {
  "colab": {
   "name": "Topic 12. Interactive charts.ipynb",
   "provenance": []
  },
  "kernelspec": {
   "display_name": "Python 3",
   "language": "python",
   "name": "python3"
  },
  "language_info": {
   "codemirror_mode": {
    "name": "ipython",
    "version": 3
   },
   "file_extension": ".py",
   "mimetype": "text/x-python",
   "name": "python",
   "nbconvert_exporter": "python",
   "pygments_lexer": "ipython3",
   "version": "3.8.8"
  },
  "toc-autonumbering": false
 },
 "nbformat": 4,
 "nbformat_minor": 4
}
