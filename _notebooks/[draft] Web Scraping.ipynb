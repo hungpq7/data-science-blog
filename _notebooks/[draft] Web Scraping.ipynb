{
 "cells": [
  {
   "cell_type": "code",
   "execution_count": 1,
   "metadata": {
    "execution": {
     "iopub.execute_input": "2022-03-10T13:11:00.729083Z",
     "iopub.status.busy": "2022-03-10T13:11:00.728725Z",
     "iopub.status.idle": "2022-03-10T13:11:11.202095Z",
     "shell.execute_reply": "2022-03-10T13:11:11.199985Z",
     "shell.execute_reply.started": "2022-03-10T13:11:00.729018Z"
    },
    "tags": []
   },
   "outputs": [
    {
     "name": "stdout",
     "output_type": "stream",
     "text": [
      "Requirement already satisfied: jupyterlab in /opt/anaconda3/lib/python3.8/site-packages (3.2.9)\n",
      "Collecting jupyterlab\n",
      "  Downloading jupyterlab-3.3.1-py3-none-any.whl (8.7 MB)\n",
      "\u001b[K     |████████████████████████████████| 8.7 MB 7.9 MB/s eta 0:00:01\n",
      "\u001b[?25hRequirement already satisfied: nbclassic~=0.2 in /opt/anaconda3/lib/python3.8/site-packages (from jupyterlab) (0.3.1)\n",
      "Requirement already satisfied: jinja2>=2.1 in /opt/anaconda3/lib/python3.8/site-packages (from jupyterlab) (2.11.3)\n",
      "Requirement already satisfied: jupyter-core in /opt/anaconda3/lib/python3.8/site-packages (from jupyterlab) (4.7.1)\n",
      "Collecting jupyterlab-server~=2.10\n",
      "  Downloading jupyterlab_server-2.10.3-py3-none-any.whl (61 kB)\n",
      "\u001b[K     |████████████████████████████████| 61 kB 8.9 MB/s  eta 0:00:01\n",
      "\u001b[?25hRequirement already satisfied: tornado>=6.1.0 in /opt/anaconda3/lib/python3.8/site-packages (from jupyterlab) (6.1)\n",
      "Requirement already satisfied: ipython in /opt/anaconda3/lib/python3.8/site-packages (from jupyterlab) (7.22.0)\n",
      "Requirement already satisfied: jupyter-server~=1.4 in /opt/anaconda3/lib/python3.8/site-packages (from jupyterlab) (1.10.2)\n",
      "Requirement already satisfied: packaging in /opt/anaconda3/lib/python3.8/site-packages (from jupyterlab) (20.9)\n",
      "Requirement already satisfied: MarkupSafe>=0.23 in /opt/anaconda3/lib/python3.8/site-packages (from jinja2>=2.1->jupyterlab) (1.1.1)\n",
      "Requirement already satisfied: traitlets>=4.2.1 in /opt/anaconda3/lib/python3.8/site-packages (from jupyter-server~=1.4->jupyterlab) (5.0.5)\n",
      "Requirement already satisfied: nbconvert in /opt/anaconda3/lib/python3.8/site-packages (from jupyter-server~=1.4->jupyterlab) (6.0.7)\n",
      "Requirement already satisfied: ipython-genutils in /opt/anaconda3/lib/python3.8/site-packages (from jupyter-server~=1.4->jupyterlab) (0.2.0)\n",
      "Requirement already satisfied: prometheus-client in /opt/anaconda3/lib/python3.8/site-packages (from jupyter-server~=1.4->jupyterlab) (0.10.1)\n",
      "Requirement already satisfied: requests-unixsocket in /opt/anaconda3/lib/python3.8/site-packages (from jupyter-server~=1.4->jupyterlab) (0.2.0)\n",
      "Requirement already satisfied: anyio<4,>=3.1.0 in /opt/anaconda3/lib/python3.8/site-packages (from jupyter-server~=1.4->jupyterlab) (3.3.0)\n",
      "Requirement already satisfied: websocket-client in /opt/anaconda3/lib/python3.8/site-packages (from jupyter-server~=1.4->jupyterlab) (1.1.1)\n",
      "Requirement already satisfied: jupyter-client>=6.1.1 in /opt/anaconda3/lib/python3.8/site-packages (from jupyter-server~=1.4->jupyterlab) (6.1.12)\n",
      "Requirement already satisfied: terminado>=0.8.3 in /opt/anaconda3/lib/python3.8/site-packages (from jupyter-server~=1.4->jupyterlab) (0.9.4)\n",
      "Requirement already satisfied: argon2-cffi in /opt/anaconda3/lib/python3.8/site-packages (from jupyter-server~=1.4->jupyterlab) (20.1.0)\n",
      "Requirement already satisfied: Send2Trash in /opt/anaconda3/lib/python3.8/site-packages (from jupyter-server~=1.4->jupyterlab) (1.5.0)\n",
      "Requirement already satisfied: pyzmq>=17 in /opt/anaconda3/lib/python3.8/site-packages (from jupyter-server~=1.4->jupyterlab) (20.0.0)\n",
      "Requirement already satisfied: nbformat in /opt/anaconda3/lib/python3.8/site-packages (from jupyter-server~=1.4->jupyterlab) (5.1.3)\n",
      "Requirement already satisfied: idna>=2.8 in /opt/anaconda3/lib/python3.8/site-packages (from anyio<4,>=3.1.0->jupyter-server~=1.4->jupyterlab) (2.10)\n",
      "Requirement already satisfied: sniffio>=1.1 in /opt/anaconda3/lib/python3.8/site-packages (from anyio<4,>=3.1.0->jupyter-server~=1.4->jupyterlab) (1.2.0)\n",
      "Requirement already satisfied: python-dateutil>=2.1 in /opt/anaconda3/lib/python3.8/site-packages (from jupyter-client>=6.1.1->jupyter-server~=1.4->jupyterlab) (2.8.1)\n",
      "Requirement already satisfied: jsonschema>=3.0.1 in /opt/anaconda3/lib/python3.8/site-packages (from jupyterlab-server~=2.10->jupyterlab) (3.2.0)\n",
      "Requirement already satisfied: entrypoints>=0.2.2 in /opt/anaconda3/lib/python3.8/site-packages (from jupyterlab-server~=2.10->jupyterlab) (0.3)\n",
      "Requirement already satisfied: babel in /opt/anaconda3/lib/python3.8/site-packages (from jupyterlab-server~=2.10->jupyterlab) (2.9.0)\n",
      "Requirement already satisfied: requests in /opt/anaconda3/lib/python3.8/site-packages (from jupyterlab-server~=2.10->jupyterlab) (2.25.1)\n",
      "Requirement already satisfied: json5 in /opt/anaconda3/lib/python3.8/site-packages (from jupyterlab-server~=2.10->jupyterlab) (0.9.5)\n",
      "Requirement already satisfied: setuptools in /opt/anaconda3/lib/python3.8/site-packages (from jsonschema>=3.0.1->jupyterlab-server~=2.10->jupyterlab) (52.0.0.post20210125)\n",
      "Requirement already satisfied: pyrsistent>=0.14.0 in /opt/anaconda3/lib/python3.8/site-packages (from jsonschema>=3.0.1->jupyterlab-server~=2.10->jupyterlab) (0.17.3)\n",
      "Requirement already satisfied: attrs>=17.4.0 in /opt/anaconda3/lib/python3.8/site-packages (from jsonschema>=3.0.1->jupyterlab-server~=2.10->jupyterlab) (20.3.0)\n",
      "Requirement already satisfied: six>=1.11.0 in /opt/anaconda3/lib/python3.8/site-packages (from jsonschema>=3.0.1->jupyterlab-server~=2.10->jupyterlab) (1.15.0)\n",
      "Requirement already satisfied: notebook<7 in /opt/anaconda3/lib/python3.8/site-packages (from nbclassic~=0.2->jupyterlab) (6.3.0)\n",
      "Requirement already satisfied: ipykernel in /opt/anaconda3/lib/python3.8/site-packages (from notebook<7->nbclassic~=0.2->jupyterlab) (5.3.4)\n",
      "Requirement already satisfied: ptyprocess in /opt/anaconda3/lib/python3.8/site-packages (from terminado>=0.8.3->jupyter-server~=1.4->jupyterlab) (0.7.0)\n",
      "Requirement already satisfied: cffi>=1.0.0 in /opt/anaconda3/lib/python3.8/site-packages (from argon2-cffi->jupyter-server~=1.4->jupyterlab) (1.14.5)\n",
      "Requirement already satisfied: pycparser in /opt/anaconda3/lib/python3.8/site-packages (from cffi>=1.0.0->argon2-cffi->jupyter-server~=1.4->jupyterlab) (2.20)\n",
      "Requirement already satisfied: pytz>=2015.7 in /opt/anaconda3/lib/python3.8/site-packages (from babel->jupyterlab-server~=2.10->jupyterlab) (2021.1)\n",
      "Requirement already satisfied: appnope in /opt/anaconda3/lib/python3.8/site-packages (from ipykernel->notebook<7->nbclassic~=0.2->jupyterlab) (0.1.2)\n",
      "Requirement already satisfied: pickleshare in /opt/anaconda3/lib/python3.8/site-packages (from ipython->jupyterlab) (0.7.5)\n",
      "Requirement already satisfied: backcall in /opt/anaconda3/lib/python3.8/site-packages (from ipython->jupyterlab) (0.2.0)\n",
      "Requirement already satisfied: prompt-toolkit!=3.0.0,!=3.0.1,<3.1.0,>=2.0.0 in /opt/anaconda3/lib/python3.8/site-packages (from ipython->jupyterlab) (3.0.17)\n",
      "Requirement already satisfied: pygments in /opt/anaconda3/lib/python3.8/site-packages (from ipython->jupyterlab) (2.8.1)\n",
      "Requirement already satisfied: decorator in /opt/anaconda3/lib/python3.8/site-packages (from ipython->jupyterlab) (4.4.2)\n",
      "Requirement already satisfied: jedi>=0.16 in /opt/anaconda3/lib/python3.8/site-packages (from ipython->jupyterlab) (0.17.2)\n",
      "Requirement already satisfied: pexpect>4.3 in /opt/anaconda3/lib/python3.8/site-packages (from ipython->jupyterlab) (4.8.0)\n",
      "Requirement already satisfied: parso<0.8.0,>=0.7.0 in /opt/anaconda3/lib/python3.8/site-packages (from jedi>=0.16->ipython->jupyterlab) (0.7.0)\n",
      "Requirement already satisfied: wcwidth in /opt/anaconda3/lib/python3.8/site-packages (from prompt-toolkit!=3.0.0,!=3.0.1,<3.1.0,>=2.0.0->ipython->jupyterlab) (0.2.5)\n",
      "Requirement already satisfied: defusedxml in /opt/anaconda3/lib/python3.8/site-packages (from nbconvert->jupyter-server~=1.4->jupyterlab) (0.7.1)\n",
      "Requirement already satisfied: nbclient<0.6.0,>=0.5.0 in /opt/anaconda3/lib/python3.8/site-packages (from nbconvert->jupyter-server~=1.4->jupyterlab) (0.5.3)\n",
      "Requirement already satisfied: jupyterlab-pygments in /opt/anaconda3/lib/python3.8/site-packages (from nbconvert->jupyter-server~=1.4->jupyterlab) (0.1.2)\n",
      "Requirement already satisfied: mistune<2,>=0.8.1 in /opt/anaconda3/lib/python3.8/site-packages (from nbconvert->jupyter-server~=1.4->jupyterlab) (0.8.4)\n",
      "Requirement already satisfied: bleach in /opt/anaconda3/lib/python3.8/site-packages (from nbconvert->jupyter-server~=1.4->jupyterlab) (3.3.0)\n",
      "Requirement already satisfied: pandocfilters>=1.4.1 in /opt/anaconda3/lib/python3.8/site-packages (from nbconvert->jupyter-server~=1.4->jupyterlab) (1.4.3)\n",
      "Requirement already satisfied: testpath in /opt/anaconda3/lib/python3.8/site-packages (from nbconvert->jupyter-server~=1.4->jupyterlab) (0.4.4)\n",
      "Requirement already satisfied: async-generator in /opt/anaconda3/lib/python3.8/site-packages (from nbclient<0.6.0,>=0.5.0->nbconvert->jupyter-server~=1.4->jupyterlab) (1.10)\n",
      "Requirement already satisfied: nest-asyncio in /opt/anaconda3/lib/python3.8/site-packages (from nbclient<0.6.0,>=0.5.0->nbconvert->jupyter-server~=1.4->jupyterlab) (1.5.1)\n",
      "Requirement already satisfied: webencodings in /opt/anaconda3/lib/python3.8/site-packages (from bleach->nbconvert->jupyter-server~=1.4->jupyterlab) (0.5.1)\n",
      "Requirement already satisfied: pyparsing>=2.0.2 in /opt/anaconda3/lib/python3.8/site-packages (from packaging->jupyterlab) (2.4.7)\n",
      "Requirement already satisfied: chardet<5,>=3.0.2 in /opt/anaconda3/lib/python3.8/site-packages (from requests->jupyterlab-server~=2.10->jupyterlab) (4.0.0)\n",
      "Requirement already satisfied: urllib3<1.27,>=1.21.1 in /opt/anaconda3/lib/python3.8/site-packages (from requests->jupyterlab-server~=2.10->jupyterlab) (1.26.4)\n",
      "Requirement already satisfied: certifi>=2017.4.17 in /opt/anaconda3/lib/python3.8/site-packages (from requests->jupyterlab-server~=2.10->jupyterlab) (2020.12.5)\n",
      "Installing collected packages: jupyterlab-server, jupyterlab\n",
      "  Attempting uninstall: jupyterlab-server\n",
      "    Found existing installation: jupyterlab-server 2.4.0\n",
      "    Uninstalling jupyterlab-server-2.4.0:\n",
      "      Successfully uninstalled jupyterlab-server-2.4.0\n",
      "  Attempting uninstall: jupyterlab\n",
      "    Found existing installation: jupyterlab 3.2.9\n",
      "    Uninstalling jupyterlab-3.2.9:\n",
      "      Successfully uninstalled jupyterlab-3.2.9\n",
      "Successfully installed jupyterlab-3.3.1 jupyterlab-server-2.10.3\n",
      "Note: you may need to restart the kernel to use updated packages.\n"
     ]
    }
   ],
   "source": [
    "pip install --upgrade jupyterlab"
   ]
  },
  {
   "cell_type": "code",
   "execution_count": 1,
   "metadata": {
    "tags": []
   },
   "outputs": [],
   "source": [
    "from bs4 import BeautifulSoup\n",
    "import requests"
   ]
  },
  {
   "cell_type": "code",
   "execution_count": 2,
   "metadata": {
    "tags": []
   },
   "outputs": [],
   "source": [
    "category_map = {}\n",
    "\n",
    "headers = {\n",
    "    'user-agent': 'Mozilla/5.0 (Windows NT 10.0; Win64; x64) AppleWebKit/537.36 (KHTML, like Gecko) Chrome/75.0.3770.142 Safari/537.36'\n",
    "}"
   ]
  },
  {
   "cell_type": "code",
   "execution_count": 62,
   "metadata": {
    "execution": {
     "iopub.execute_input": "2021-07-05T16:56:45.721420Z",
     "iopub.status.busy": "2021-07-05T16:56:45.721420Z",
     "iopub.status.idle": "2021-07-05T16:56:45.745353Z",
     "shell.execute_reply": "2021-07-05T16:56:45.744356Z",
     "shell.execute_reply.started": "2021-07-05T16:56:45.721420Z"
    },
    "tags": []
   },
   "outputs": [],
   "source": [
    "def getCategoryPath(category_id):\n",
    "\n",
    "    # request to the url\n",
    "    url = f'https://tiki.vn/business-economics/c{category_id}'\n",
    "    response = requests.get(url, headers=headers)\n",
    "    \n",
    "    # check if category name in the response url does not change: then that category_id does not exist\n",
    "    if response.url.split('/')[3] == 'business-economics':\n",
    "        category_path = None\n",
    "    else:\n",
    "        # get page content and turn into html parser\n",
    "        content = response.content\n",
    "        soup = BeautifulSoup(content, 'html.parser')\n",
    "        \n",
    "        categories = []\n",
    "        \n",
    "        # parse categories of all levels, gather them into a list\n",
    "        body = soup.find('div', class_='breadcrumb')\n",
    "        elements = body.find_all('a', class_='breadcrumb-item')\n",
    "        for element in elements[1:]:\n",
    "            category = element.text\n",
    "            categories.append(category)\n",
    "        \n",
    "        # transform the list into a single path-like category\n",
    "        category_path = '|'.join(categories)\n",
    "        \n",
    "    return category_path"
   ]
  },
  {
   "cell_type": "code",
   "execution_count": 70,
   "metadata": {
    "execution": {
     "iopub.execute_input": "2021-07-05T17:29:27.751978Z",
     "iopub.status.busy": "2021-07-05T17:29:27.751978Z",
     "iopub.status.idle": "2021-07-05T17:29:34.043939Z",
     "shell.execute_reply": "2021-07-05T17:29:34.041944Z",
     "shell.execute_reply.started": "2021-07-05T17:29:27.751978Z"
    },
    "tags": []
   },
   "outputs": [
    {
     "data": {
      "text/plain": [
       "{5: \"Chương trình khuyến mãi|Book - Khuyến mại|Foreign Books Collection|Editors' Picks|Top book lists|100 Books to Read in a Lifetime|Books that will change your life\",\n",
       " 6: \"Nhà Sách Tiki|English Books|Children's Books|Literature & Fiction|Science Fiction & Fantasy\",\n",
       " 7: \"Nhà Sách Tiki|English Books|Children's Books\",\n",
       " 8: 'Nhà Sách Tiki|English Books|Fiction - Literature|Mystery, Thriller & Suspense',\n",
       " 9: 'Nhà Sách Tiki|English Books|Fiction - Literature',\n",
       " 10: 'Nhà Sách Tiki|English Books|Science - Technology|Internet - Computers',\n",
       " 13: 'Nhà Sách Tiki|English Books|Business & Economics|Management - Leadership',\n",
       " 15: 'Memoirs - Biographies',\n",
       " 19: 'Design - Arts'}"
      ]
     },
     "execution_count": 70,
     "metadata": {},
     "output_type": "execute_result"
    }
   ],
   "source": [
    "for category_id in range(5, 20):\n",
    "    category_path = getCategoryPath(category_id)\n",
    "    if category_path == None:\n",
    "        continue\n",
    "    else:\n",
    "        category_map[category_id] = category_path\n",
    "\n",
    "category_map"
   ]
  },
  {
   "cell_type": "code",
   "execution_count": null,
   "metadata": {},
   "outputs": [],
   "source": []
  },
  {
   "cell_type": "markdown",
   "metadata": {},
   "source": [
    "---\n",
    "*&#9829; By Quang Hung x Thuy Linh &#9829;*"
   ]
  }
 ],
 "metadata": {
  "kernelspec": {
   "display_name": "Python 3",
   "language": "python",
   "name": "python3"
  },
  "language_info": {
   "codemirror_mode": {
    "name": "ipython",
    "version": 3
   },
   "file_extension": ".py",
   "mimetype": "text/x-python",
   "name": "python",
   "nbconvert_exporter": "python",
   "pygments_lexer": "ipython3",
   "version": "3.8.8"
  }
 },
 "nbformat": 4,
 "nbformat_minor": 4
}
