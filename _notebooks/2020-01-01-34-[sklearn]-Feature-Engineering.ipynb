{
 "cells": [
  {
   "cell_type": "markdown",
   "metadata": {},
   "source": [
    "# Feature Engineering\n",
    "> A tutorial of fastpages for Jupyter notebooks.\n",
    "\n",
    "- toc: true \n",
    "- badges: true\n",
    "- comments: true\n",
    "- categories: [jupyter]\n",
    "- image: images/chart-preview.png"
   ]
  },
  {
   "cell_type": "markdown",
   "metadata": {},
   "source": [
    "As introducted in the topic *[Pandas] Data Cleaning*, clean data is used as the input for analytical tasks. However, to build a good predictive model (in both performance and computation), a lot more works need to be done in order to improve data quality. These kind of tasks are called [feature engineering](https://en.wikipedia.org/wiki/Feature_engineering), they get data into the appropriate format and reveal hidden insights.\n",
    "\n",
    "Feature engineering tasks are technically simple, but they do require some domain knowledge. This makes feature engineering more of an art than a science."
   ]
  },
  {
   "cell_type": "markdown",
   "metadata": {},
   "source": [
    "# 1. Data preprocessing"
   ]
  },
  {
   "cell_type": "markdown",
   "metadata": {},
   "source": [
    "## 1.1. Scaling\n",
    "Scaling is a preprocessing technique defined only on numerical variables, where the scaled variable distributes the same as the original one but does have specific properties.\n",
    "- *Min-max scaling*: to have the min of $0$ and max of $1$\n",
    "- *Standardization*: to have the mean of $0$ and standard deviation of $1$\n",
    "- *Manhattan normalization*: to have the absolute values sum up to $1$\n",
    "- *Euclidean normalization*: to have the squared values sum up to $1$"
   ]
  },
  {
   "cell_type": "code",
   "execution_count": 1,
   "metadata": {
    "execution": {
     "iopub.execute_input": "2022-05-14T13:59:06.545261Z",
     "iopub.status.busy": "2022-05-14T13:59:06.544673Z",
     "iopub.status.idle": "2022-05-14T13:59:24.530109Z",
     "shell.execute_reply": "2022-05-14T13:59:24.529313Z",
     "shell.execute_reply.started": "2022-05-14T13:59:06.545149Z"
    },
    "tags": []
   },
   "outputs": [],
   "source": [
    "import numpy as np\n",
    "import pandas as pd\n",
    "np.set_printoptions(precision=4, suppress=True)\n",
    "\n",
    "from sklearn.preprocessing import MinMaxScaler, Normalizer, StandardScaler"
   ]
  },
  {
   "cell_type": "markdown",
   "metadata": {},
   "source": [
    "### Min-max scaling\n",
    "Many Machine Learning algorithms assume all variables are on the same scale, typically $[0;1]$. The formula for rescaling to $[a;b]$ is:\n",
    "\n",
    "$$\\mathbf{x}'=\\frac{\\mathbf{x}-\\mathbf{x}_{min}}{\\mathbf{x}_{max}-\\mathbf{x}_{min}}(b-a)+a$$"
   ]
  },
  {
   "cell_type": "code",
   "execution_count": 7,
   "metadata": {},
   "outputs": [
    {
     "data": {
      "text/html": [
       "<div>\n",
       "<style scoped>\n",
       "    .dataframe tbody tr th:only-of-type {\n",
       "        vertical-align: middle;\n",
       "    }\n",
       "\n",
       "    .dataframe tbody tr th {\n",
       "        vertical-align: top;\n",
       "    }\n",
       "\n",
       "    .dataframe thead th {\n",
       "        text-align: right;\n",
       "    }\n",
       "</style>\n",
       "<table border=\"1\" class=\"dataframe\">\n",
       "  <thead>\n",
       "    <tr style=\"text-align: right;\">\n",
       "      <th></th>\n",
       "      <th>x</th>\n",
       "      <th>y</th>\n",
       "      <th>x_scaled</th>\n",
       "      <th>y_scaled</th>\n",
       "    </tr>\n",
       "  </thead>\n",
       "  <tbody>\n",
       "    <tr>\n",
       "      <th>0</th>\n",
       "      <td>17</td>\n",
       "      <td>75</td>\n",
       "      <td>0.000000</td>\n",
       "      <td>0.896552</td>\n",
       "    </tr>\n",
       "    <tr>\n",
       "      <th>1</th>\n",
       "      <td>22</td>\n",
       "      <td>81</td>\n",
       "      <td>0.238095</td>\n",
       "      <td>1.000000</td>\n",
       "    </tr>\n",
       "    <tr>\n",
       "      <th>2</th>\n",
       "      <td>25</td>\n",
       "      <td>32</td>\n",
       "      <td>0.380952</td>\n",
       "      <td>0.155172</td>\n",
       "    </tr>\n",
       "    <tr>\n",
       "      <th>3</th>\n",
       "      <td>30</td>\n",
       "      <td>23</td>\n",
       "      <td>0.619048</td>\n",
       "      <td>0.000000</td>\n",
       "    </tr>\n",
       "    <tr>\n",
       "      <th>4</th>\n",
       "      <td>38</td>\n",
       "      <td>55</td>\n",
       "      <td>1.000000</td>\n",
       "      <td>0.551724</td>\n",
       "    </tr>\n",
       "  </tbody>\n",
       "</table>\n",
       "</div>"
      ],
      "text/plain": [
       "    x   y  x_scaled  y_scaled\n",
       "0  17  75  0.000000  0.896552\n",
       "1  22  81  0.238095  1.000000\n",
       "2  25  32  0.380952  0.155172\n",
       "3  30  23  0.619048  0.000000\n",
       "4  38  55  1.000000  0.551724"
      ]
     },
     "execution_count": 7,
     "metadata": {},
     "output_type": "execute_result"
    }
   ],
   "source": [
    "df = pd.DataFrame({\n",
    "    'x': [17, 22, 25, 30, 38],\n",
    "    'y': [75, 81, 32, 23, 55]\n",
    "})\n",
    "\n",
    "scaler = MinMaxScaler(feature_range=(0,1))\n",
    "data_scaled = scaler.fit_transform(df.values)\n",
    "df_scaled = pd.DataFrame(data_scaled, columns=['x_scaled', 'y_scaled'])\n",
    "\n",
    "df.join(df_scaled)"
   ]
  },
  {
   "cell_type": "markdown",
   "metadata": {},
   "source": [
    "### Standardization\n",
    "Also called *z-score* scaling, it is a technique that transforms a variable so that it has a mean of $0$ and a standard deviation of $1$. Standardization is strongly recommended as the default method for data preprocessing. The formula for standardizing $x$ is:\n",
    "\n",
    "$$\\mathbf{x}'=\\frac{\\mathbf{x}-\\mu_\\mathbf{x}}{\\sigma_\\mathbf{x}}$$"
   ]
  },
  {
   "cell_type": "code",
   "execution_count": 9,
   "metadata": {},
   "outputs": [
    {
     "data": {
      "text/html": [
       "<div>\n",
       "<style scoped>\n",
       "    .dataframe tbody tr th:only-of-type {\n",
       "        vertical-align: middle;\n",
       "    }\n",
       "\n",
       "    .dataframe tbody tr th {\n",
       "        vertical-align: top;\n",
       "    }\n",
       "\n",
       "    .dataframe thead th {\n",
       "        text-align: right;\n",
       "    }\n",
       "</style>\n",
       "<table border=\"1\" class=\"dataframe\">\n",
       "  <thead>\n",
       "    <tr style=\"text-align: right;\">\n",
       "      <th></th>\n",
       "      <th>x</th>\n",
       "      <th>y</th>\n",
       "      <th>x_scaled</th>\n",
       "      <th>y_scaled</th>\n",
       "    </tr>\n",
       "  </thead>\n",
       "  <tbody>\n",
       "    <tr>\n",
       "      <th>0</th>\n",
       "      <td>17</td>\n",
       "      <td>75</td>\n",
       "      <td>-1.310622</td>\n",
       "      <td>0.953649</td>\n",
       "    </tr>\n",
       "    <tr>\n",
       "      <th>1</th>\n",
       "      <td>22</td>\n",
       "      <td>81</td>\n",
       "      <td>-0.613483</td>\n",
       "      <td>1.216121</td>\n",
       "    </tr>\n",
       "    <tr>\n",
       "      <th>2</th>\n",
       "      <td>25</td>\n",
       "      <td>32</td>\n",
       "      <td>-0.195199</td>\n",
       "      <td>-0.927401</td>\n",
       "    </tr>\n",
       "    <tr>\n",
       "      <th>3</th>\n",
       "      <td>30</td>\n",
       "      <td>23</td>\n",
       "      <td>0.501940</td>\n",
       "      <td>-1.321110</td>\n",
       "    </tr>\n",
       "    <tr>\n",
       "      <th>4</th>\n",
       "      <td>38</td>\n",
       "      <td>55</td>\n",
       "      <td>1.617363</td>\n",
       "      <td>0.078742</td>\n",
       "    </tr>\n",
       "  </tbody>\n",
       "</table>\n",
       "</div>"
      ],
      "text/plain": [
       "    x   y  x_scaled  y_scaled\n",
       "0  17  75 -1.310622  0.953649\n",
       "1  22  81 -0.613483  1.216121\n",
       "2  25  32 -0.195199 -0.927401\n",
       "3  30  23  0.501940 -1.321110\n",
       "4  38  55  1.617363  0.078742"
      ]
     },
     "execution_count": 9,
     "metadata": {},
     "output_type": "execute_result"
    }
   ],
   "source": [
    "df = pd.DataFrame({\n",
    "    'x': [17, 22, 25, 30, 38],\n",
    "    'y': [75, 81, 32, 23, 55]\n",
    "})\n",
    "\n",
    "scaler = StandardScaler()\n",
    "data_scaled = scaler.fit_transform(df.values)\n",
    "df_scaled = pd.DataFrame(data_scaled, columns=['x_scaled', 'y_scaled'])\n",
    "\n",
    "df.join(df_scaled)"
   ]
  },
  {
   "cell_type": "markdown",
   "metadata": {},
   "source": [
    "### Normalizing\n",
    "This technique ensures the vector has a total length of 1. The length can be either Manhattan distance (L1) $\\|\\mathbf{x}\\|_1 = |x_1|+|x_2|+\\dots+|x_n|$ or Euclidean distance (L2) $\\|\\mathbf{x}\\|_2 = \\sqrt{x_1^2+x_2^2+\\dots+x_n^2}$. The formula for normalizing is:\n",
    "\n",
    "$$\\mathbf{x}'=\\frac{\\mathbf{x}}{\\|\\mathbf{x}\\|}$$"
   ]
  },
  {
   "cell_type": "code",
   "execution_count": 12,
   "metadata": {},
   "outputs": [
    {
     "data": {
      "text/html": [
       "<div>\n",
       "<style scoped>\n",
       "    .dataframe tbody tr th:only-of-type {\n",
       "        vertical-align: middle;\n",
       "    }\n",
       "\n",
       "    .dataframe tbody tr th {\n",
       "        vertical-align: top;\n",
       "    }\n",
       "\n",
       "    .dataframe thead th {\n",
       "        text-align: right;\n",
       "    }\n",
       "</style>\n",
       "<table border=\"1\" class=\"dataframe\">\n",
       "  <thead>\n",
       "    <tr style=\"text-align: right;\">\n",
       "      <th></th>\n",
       "      <th>x</th>\n",
       "      <th>y</th>\n",
       "      <th>x_scaled</th>\n",
       "      <th>y_scaled</th>\n",
       "    </tr>\n",
       "  </thead>\n",
       "  <tbody>\n",
       "    <tr>\n",
       "      <th>0</th>\n",
       "      <td>17</td>\n",
       "      <td>75</td>\n",
       "      <td>0.128788</td>\n",
       "      <td>0.281955</td>\n",
       "    </tr>\n",
       "    <tr>\n",
       "      <th>1</th>\n",
       "      <td>22</td>\n",
       "      <td>81</td>\n",
       "      <td>0.166667</td>\n",
       "      <td>0.304511</td>\n",
       "    </tr>\n",
       "    <tr>\n",
       "      <th>2</th>\n",
       "      <td>25</td>\n",
       "      <td>32</td>\n",
       "      <td>0.189394</td>\n",
       "      <td>0.120301</td>\n",
       "    </tr>\n",
       "    <tr>\n",
       "      <th>3</th>\n",
       "      <td>30</td>\n",
       "      <td>23</td>\n",
       "      <td>0.227273</td>\n",
       "      <td>0.086466</td>\n",
       "    </tr>\n",
       "    <tr>\n",
       "      <th>4</th>\n",
       "      <td>38</td>\n",
       "      <td>55</td>\n",
       "      <td>0.287879</td>\n",
       "      <td>0.206767</td>\n",
       "    </tr>\n",
       "  </tbody>\n",
       "</table>\n",
       "</div>"
      ],
      "text/plain": [
       "    x   y  x_scaled  y_scaled\n",
       "0  17  75  0.128788  0.281955\n",
       "1  22  81  0.166667  0.304511\n",
       "2  25  32  0.189394  0.120301\n",
       "3  30  23  0.227273  0.086466\n",
       "4  38  55  0.287879  0.206767"
      ]
     },
     "execution_count": 12,
     "metadata": {},
     "output_type": "execute_result"
    }
   ],
   "source": [
    "df = pd.DataFrame({\n",
    "    'x': [17, 22, 25, 30, 38],\n",
    "    'y': [75, 81, 32, 23, 55]\n",
    "})\n",
    "\n",
    "scaler = Normalizer(norm='l1')\n",
    "data_scaled = scaler.fit_transform(df.values.T).T\n",
    "df_scaled = pd.DataFrame(data_scaled, columns=['x_scaled', 'y_scaled'])\n",
    "\n",
    "df.join(df_scaled)"
   ]
  },
  {
   "cell_type": "code",
   "execution_count": 4,
   "metadata": {},
   "outputs": [
    {
     "data": {
      "text/html": [
       "<div>\n",
       "<style scoped>\n",
       "    .dataframe tbody tr th:only-of-type {\n",
       "        vertical-align: middle;\n",
       "    }\n",
       "\n",
       "    .dataframe tbody tr th {\n",
       "        vertical-align: top;\n",
       "    }\n",
       "\n",
       "    .dataframe thead th {\n",
       "        text-align: right;\n",
       "    }\n",
       "</style>\n",
       "<table border=\"1\" class=\"dataframe\">\n",
       "  <thead>\n",
       "    <tr style=\"text-align: right;\">\n",
       "      <th></th>\n",
       "      <th>x</th>\n",
       "      <th>y</th>\n",
       "      <th>x_scaled</th>\n",
       "      <th>y_scaled</th>\n",
       "    </tr>\n",
       "  </thead>\n",
       "  <tbody>\n",
       "    <tr>\n",
       "      <th>0</th>\n",
       "      <td>17</td>\n",
       "      <td>75</td>\n",
       "      <td>0.277905</td>\n",
       "      <td>0.579259</td>\n",
       "    </tr>\n",
       "    <tr>\n",
       "      <th>1</th>\n",
       "      <td>22</td>\n",
       "      <td>81</td>\n",
       "      <td>0.359642</td>\n",
       "      <td>0.625599</td>\n",
       "    </tr>\n",
       "    <tr>\n",
       "      <th>2</th>\n",
       "      <td>25</td>\n",
       "      <td>32</td>\n",
       "      <td>0.408684</td>\n",
       "      <td>0.247150</td>\n",
       "    </tr>\n",
       "    <tr>\n",
       "      <th>3</th>\n",
       "      <td>30</td>\n",
       "      <td>23</td>\n",
       "      <td>0.490421</td>\n",
       "      <td>0.177639</td>\n",
       "    </tr>\n",
       "    <tr>\n",
       "      <th>4</th>\n",
       "      <td>38</td>\n",
       "      <td>55</td>\n",
       "      <td>0.621200</td>\n",
       "      <td>0.424790</td>\n",
       "    </tr>\n",
       "  </tbody>\n",
       "</table>\n",
       "</div>"
      ],
      "text/plain": [
       "    x   y  x_scaled  y_scaled\n",
       "0  17  75  0.277905  0.579259\n",
       "1  22  81  0.359642  0.625599\n",
       "2  25  32  0.408684  0.247150\n",
       "3  30  23  0.490421  0.177639\n",
       "4  38  55  0.621200  0.424790"
      ]
     },
     "execution_count": 4,
     "metadata": {},
     "output_type": "execute_result"
    }
   ],
   "source": [
    "df = pd.DataFrame({\n",
    "    'x': [17, 22, 25, 30, 38],\n",
    "    'y': [75, 81, 32, 23, 55]\n",
    "})\n",
    "\n",
    "scaler = Normalizer(norm='l2')\n",
    "data_scaled = scaler.fit_transform(df.values.T).T\n",
    "df_scaled = pd.DataFrame(data_scaled, columns=['x_scaled', 'y_scaled'])\n",
    "\n",
    "df.join(df_scaled)"
   ]
  },
  {
   "cell_type": "markdown",
   "metadata": {},
   "source": [
    "## 1.2. Transformation\n",
    "Sometimes real world data distribute not very nice, while most transformation techiniques do not affect the distribution. Imagine the label in a regression problem is mostly small values, then Machine Learning algorithms will have a hard time *learning* higher values. By taking advantage of mathematical functions, Data Scientists can control the distribution of data to make them more *nature*.\n",
    "\n",
    "This section covers the most notable transformations. Some other basic and popular ones are:\n",
    "- *Reciprocal* transformation: $\\mathbf{x}=\\mathbf{x}^{-1}$\n",
    "- *Square root* transformation: $\\mathbf{x}=\\sqrt{\\mathbf{x}}$\n",
    "- *Exponential* transformation: $\\mathbf{x}=e^{\\mathbf{x}}$"
   ]
  },
  {
   "cell_type": "code",
   "execution_count": 2,
   "metadata": {
    "execution": {
     "iopub.execute_input": "2022-05-14T14:31:42.951571Z",
     "iopub.status.busy": "2022-05-14T14:31:42.947684Z",
     "iopub.status.idle": "2022-05-14T14:31:44.493252Z",
     "shell.execute_reply": "2022-05-14T14:31:44.492664Z",
     "shell.execute_reply.started": "2022-05-14T14:31:42.951455Z"
    },
    "tags": []
   },
   "outputs": [],
   "source": [
    "import numpy as np\n",
    "import pandas as pd\n",
    "from scipy.stats import skewnorm, boxcox, yeojohnson\n",
    "import matplotlib.pyplot as plt\n",
    "import seaborn as sns\n",
    "\n",
    "np.set_printoptions(precision=4, suppress=True)\n",
    "plt.style.use(['seaborn', 'seaborn-whitegrid'])\n",
    "%config InlineBackend.figure_format = 'retina'"
   ]
  },
  {
   "cell_type": "markdown",
   "metadata": {},
   "source": [
    "### Logarithm\n",
    "This popular technique has the ability to make right skewed data distribute normally. The formula of the transformation is:\n",
    "\n",
    "$$\\mathbf{x}'=\\log_b{(\\mathbf{x}+1)}$$\n",
    "\n",
    "Some notable tips when using log transformation:\n",
    "- It works only on features contain all postive values.\n",
    "- Different base values $b$ can be used, the most common ones are: $e$, $2$ and $10$.\n",
    "- The quantity $1$ is added to $\\mathbf{x}$ to make sure the values after the transformation are all positive, since $\\log{(x+1)}>\\log1=0$."
   ]
  },
  {
   "cell_type": "code",
   "execution_count": 12,
   "metadata": {
    "execution": {
     "iopub.execute_input": "2022-05-14T15:09:43.818280Z",
     "iopub.status.busy": "2022-05-14T15:09:43.817884Z",
     "iopub.status.idle": "2022-05-14T15:09:44.268369Z",
     "shell.execute_reply": "2022-05-14T15:09:44.267446Z",
     "shell.execute_reply.started": "2022-05-14T15:09:43.818248Z"
    },
    "tags": []
   },
   "outputs": [
    {
     "data": {
      "image/png": "[encoded data removed]",
      "text/plain": [
       "<Figure size 1080x360 with 2 Axes>"
      ]
     },
     "metadata": {
      "image/png": {
       "height": 316,
       "width": 889
      }
     },
     "output_type": "display_data"
    }
   ],
   "source": [
    "np.random.seed(7)\n",
    "df = pd.DataFrame({'x': skewnorm.rvs(a=4, loc=1, size=10000)})\n",
    "df = df.assign(x_scaled=np.log10(df.x+1))\n",
    "\n",
    "fig, ax = plt.subplots(1, 2, figsize=(15,5), sharey=True)\n",
    "sns.histplot(df.x, ax=ax[0], kde=True, edgecolor='w')\n",
    "sns.histplot(df.x_scaled, ax=ax[1], kde=True, edgecolor='w')\n",
    "plt.show()"
   ]
  },
  {
   "cell_type": "markdown",
   "metadata": {},
   "source": [
    "### Box-Cox\n",
    "[Box-Cox transform](https://en.wikipedia.org/wiki/Power_transform#Box–Cox_transformation) is a member of [power transform](https://en.wikipedia.org/wiki/Power_transform) family. It has the effect of making data more normal distribution-like. The transformation is given by a [piecewise function](https://en.wikipedia.org/wiki/Piecewise) as below:\n",
    "\n",
    "$$\n",
    "\\mathbf{x}'=\n",
    "\\begin{cases}\n",
    "    {\\dfrac {\\mathbf{x}^{\\lambda}-1}{\\lambda}}&{\\text{if }}\\lambda\\neq 0\\\\\n",
    "    \\log\\mathbf{x}&{\\text{if }}\\lambda=0\n",
    "\\end{cases}\n",
    "$$\n",
    "\n",
    "By default, the\n",
    "<code style='font-size:13px;'><a href='https://docs.scipy.org/doc/scipy/reference/generated/scipy.stats.boxcox.html'>scipy.stats.boxcox()</a></code>\n",
    "function estimates the value of $\\lambda$ that maximizes the log-likelihood function."
   ]
  },
  {
   "cell_type": "code",
   "execution_count": 10,
   "metadata": {
    "execution": {
     "iopub.execute_input": "2022-05-14T15:09:11.303229Z",
     "iopub.status.busy": "2022-05-14T15:09:11.302644Z",
     "iopub.status.idle": "2022-05-14T15:09:11.759663Z",
     "shell.execute_reply": "2022-05-14T15:09:11.758768Z",
     "shell.execute_reply.started": "2022-05-14T15:09:11.303188Z"
    },
    "tags": []
   },
   "outputs": [
    {
     "data": {
      "image/png": "[encoded data removed]",
      "text/plain": [
       "<Figure size 1080x360 with 2 Axes>"
      ]
     },
     "metadata": {
      "image/png": {
       "height": 316,
       "width": 889
      }
     },
     "output_type": "display_data"
    }
   ],
   "source": [
    "np.random.seed(7)\n",
    "df = pd.DataFrame({'x': skewnorm.rvs(a=4, loc=1, size=10000)})\n",
    "df = df.assign(x_scaled=boxcox(df.x)[0])\n",
    "\n",
    "fig, ax = plt.subplots(1, 2, figsize=(15,5))\n",
    "sns.histplot(df.x, ax=ax[0], kde=True, edgecolor='w')\n",
    "sns.histplot(df.x_scaled, ax=ax[1], kde=True, edgecolor='w')\n",
    "plt.show()"
   ]
  },
  {
   "cell_type": "code",
   "execution_count": 7,
   "metadata": {
    "execution": {
     "iopub.execute_input": "2022-05-14T15:08:01.135979Z",
     "iopub.status.busy": "2022-05-14T15:08:01.135649Z",
     "iopub.status.idle": "2022-05-14T15:08:01.140584Z",
     "shell.execute_reply": "2022-05-14T15:08:01.139759Z",
     "shell.execute_reply.started": "2022-05-14T15:08:01.135956Z"
    },
    "tags": []
   },
   "outputs": [],
   "source": [
    "x = np.array([1, 2, 3, 4])\n",
    "xScaled, lmbda = boxcox(x)"
   ]
  },
  {
   "cell_type": "markdown",
   "metadata": {},
   "source": [
    "### Yeo-Johnson\n",
    "[Yeo-Johnson transform](https://en.wikipedia.org/wiki/Power_transform#Yeo–Johnson_transformation) is another member of power transform family. It extends Box-Cox transform to handle nagative input data, using the following function:\n",
    "\n",
    "$$\n",
    "\\mathbf{x}'=\n",
    "\\begin{cases}\n",
    "    \\dfrac{(\\mathbf{x}+1)^{\\lambda}-1}{\\lambda}       & \\text{if }\\lambda\\neq 0\\text{ and }\\mathbf{x}\\geq 0 \\\\\n",
    "    \\log(\\mathbf{x}+1)                                & \\text{if }\\lambda=    0\\text{ and }\\mathbf{x}\\geq 0 \\\\\n",
    "    -\\dfrac{(-\\mathbf{x}+1)^{2-\\lambda}-1}{2-\\lambda} & \\text{if }\\lambda\\neq 2\\text{ and }\\mathbf{x}\\leq 0 \\\\\n",
    "    -\\log(-\\mathbf{x}+1)                              & \\text{if }\\lambda=    0\\text{ and }\\mathbf{x}\\geq 0 \\\\\n",
    "\\end{cases}\n",
    "$$\n",
    "\n",
    "By default, the\n",
    "<code style='font-size:13px;'><a href='https://docs.scipy.org/doc/scipy/reference/generated/scipy.stats.yeojohnson.html'>scipy.stats.yeojohnson()</a></code>\n",
    "function estimates the value of $\\lambda$ that maximizes the log-likelihood function."
   ]
  },
  {
   "cell_type": "code",
   "execution_count": 11,
   "metadata": {
    "execution": {
     "iopub.execute_input": "2022-05-14T15:09:20.330619Z",
     "iopub.status.busy": "2022-05-14T15:09:20.330261Z",
     "iopub.status.idle": "2022-05-14T15:09:20.795602Z",
     "shell.execute_reply": "2022-05-14T15:09:20.794655Z",
     "shell.execute_reply.started": "2022-05-14T15:09:20.330593Z"
    },
    "tags": []
   },
   "outputs": [
    {
     "data": {
      "image/png": "[encoded data removed]",
      "text/plain": [
       "<Figure size 1080x360 with 2 Axes>"
      ]
     },
     "metadata": {
      "image/png": {
       "height": 316,
       "width": 889
      }
     },
     "output_type": "display_data"
    }
   ],
   "source": [
    "np.random.seed(7)\n",
    "df = pd.DataFrame({'x': skewnorm.rvs(a=4, loc=1, size=10000)})\n",
    "df = df.assign(x_scaled=yeojohnson(df.x)[0])\n",
    "\n",
    "fig, ax = plt.subplots(1, 2, figsize=(15,5))\n",
    "sns.histplot(df.x, ax=ax[0], kde=True, edgecolor='w')\n",
    "sns.histplot(df.x_scaled, ax=ax[1], kde=True, edgecolor='w')\n",
    "plt.show()"
   ]
  },
  {
   "cell_type": "markdown",
   "metadata": {},
   "source": [
    "## 1.2. Bucketizing\n",
    "Bucketizing (or binning) refers to the tasks that put data into larger bins. Doing bucketizing means sacrifying information, however it makes data more regularized and thus prevents overfitting. Either numerical and categorical variables can be binned."
   ]
  },
  {
   "cell_type": "code",
   "execution_count": 1,
   "metadata": {},
   "outputs": [],
   "source": [
    "import numpy as np\n",
    "import pandas as pd\n",
    "from sklearn.cluster import KMeans"
   ]
  },
  {
   "cell_type": "markdown",
   "metadata": {},
   "source": [
    "### Discretizating"
   ]
  },
  {
   "cell_type": "code",
   "execution_count": 34,
   "metadata": {},
   "outputs": [
    {
     "data": {
      "text/html": [
       "<div>\n",
       "<style scoped>\n",
       "    .dataframe tbody tr th:only-of-type {\n",
       "        vertical-align: middle;\n",
       "    }\n",
       "\n",
       "    .dataframe tbody tr th {\n",
       "        vertical-align: top;\n",
       "    }\n",
       "\n",
       "    .dataframe thead th {\n",
       "        text-align: right;\n",
       "    }\n",
       "</style>\n",
       "<table border=\"1\" class=\"dataframe\">\n",
       "  <thead>\n",
       "    <tr style=\"text-align: right;\">\n",
       "      <th></th>\n",
       "      <th>x</th>\n",
       "      <th>group</th>\n",
       "    </tr>\n",
       "  </thead>\n",
       "  <tbody>\n",
       "    <tr>\n",
       "      <th>0</th>\n",
       "      <td>17</td>\n",
       "      <td>A</td>\n",
       "    </tr>\n",
       "    <tr>\n",
       "      <th>1</th>\n",
       "      <td>22</td>\n",
       "      <td>B</td>\n",
       "    </tr>\n",
       "    <tr>\n",
       "      <th>2</th>\n",
       "      <td>25</td>\n",
       "      <td>B</td>\n",
       "    </tr>\n",
       "    <tr>\n",
       "      <th>3</th>\n",
       "      <td>30</td>\n",
       "      <td>C</td>\n",
       "    </tr>\n",
       "    <tr>\n",
       "      <th>4</th>\n",
       "      <td>38</td>\n",
       "      <td>C</td>\n",
       "    </tr>\n",
       "  </tbody>\n",
       "</table>\n",
       "</div>"
      ],
      "text/plain": [
       "    x group\n",
       "0  17     A\n",
       "1  22     B\n",
       "2  25     B\n",
       "3  30     C\n",
       "4  38     C"
      ]
     },
     "execution_count": 34,
     "metadata": {},
     "output_type": "execute_result"
    }
   ],
   "source": [
    "df = pd.DataFrame({'x': [17, 22, 25, 30, 38]})\n",
    "\n",
    "group = pd.cut(\n",
    "    df.x,\n",
    "    bins=[0, 20, 30, 100],\n",
    "    right=False,\n",
    "    labels=['A', 'B', 'C'])\n",
    "\n",
    "df.assign(group=group)"
   ]
  },
  {
   "cell_type": "markdown",
   "metadata": {},
   "source": [
    "### Clustering"
   ]
  },
  {
   "cell_type": "code",
   "execution_count": 48,
   "metadata": {},
   "outputs": [
    {
     "data": {
      "text/html": [
       "<div>\n",
       "<style scoped>\n",
       "    .dataframe tbody tr th:only-of-type {\n",
       "        vertical-align: middle;\n",
       "    }\n",
       "\n",
       "    .dataframe tbody tr th {\n",
       "        vertical-align: top;\n",
       "    }\n",
       "\n",
       "    .dataframe thead th {\n",
       "        text-align: right;\n",
       "    }\n",
       "</style>\n",
       "<table border=\"1\" class=\"dataframe\">\n",
       "  <thead>\n",
       "    <tr style=\"text-align: right;\">\n",
       "      <th></th>\n",
       "      <th>x</th>\n",
       "      <th>y</th>\n",
       "      <th>group</th>\n",
       "    </tr>\n",
       "  </thead>\n",
       "  <tbody>\n",
       "    <tr>\n",
       "      <th>0</th>\n",
       "      <td>47</td>\n",
       "      <td>86</td>\n",
       "      <td>2</td>\n",
       "    </tr>\n",
       "    <tr>\n",
       "      <th>1</th>\n",
       "      <td>22</td>\n",
       "      <td>81</td>\n",
       "      <td>2</td>\n",
       "    </tr>\n",
       "    <tr>\n",
       "      <th>2</th>\n",
       "      <td>82</td>\n",
       "      <td>16</td>\n",
       "      <td>1</td>\n",
       "    </tr>\n",
       "    <tr>\n",
       "      <th>3</th>\n",
       "      <td>19</td>\n",
       "      <td>35</td>\n",
       "      <td>0</td>\n",
       "    </tr>\n",
       "    <tr>\n",
       "      <th>4</th>\n",
       "      <td>85</td>\n",
       "      <td>60</td>\n",
       "      <td>1</td>\n",
       "    </tr>\n",
       "    <tr>\n",
       "      <th>5</th>\n",
       "      <td>15</td>\n",
       "      <td>30</td>\n",
       "      <td>0</td>\n",
       "    </tr>\n",
       "    <tr>\n",
       "      <th>6</th>\n",
       "      <td>89</td>\n",
       "      <td>28</td>\n",
       "      <td>1</td>\n",
       "    </tr>\n",
       "    <tr>\n",
       "      <th>7</th>\n",
       "      <td>74</td>\n",
       "      <td>94</td>\n",
       "      <td>2</td>\n",
       "    </tr>\n",
       "    <tr>\n",
       "      <th>8</th>\n",
       "      <td>26</td>\n",
       "      <td>21</td>\n",
       "      <td>0</td>\n",
       "    </tr>\n",
       "    <tr>\n",
       "      <th>9</th>\n",
       "      <td>11</td>\n",
       "      <td>38</td>\n",
       "      <td>0</td>\n",
       "    </tr>\n",
       "  </tbody>\n",
       "</table>\n",
       "</div>"
      ],
      "text/plain": [
       "    x   y  group\n",
       "0  47  86      2\n",
       "1  22  81      2\n",
       "2  82  16      1\n",
       "3  19  35      0\n",
       "4  85  60      1\n",
       "5  15  30      0\n",
       "6  89  28      1\n",
       "7  74  94      2\n",
       "8  26  21      0\n",
       "9  11  38      0"
      ]
     },
     "execution_count": 48,
     "metadata": {},
     "output_type": "execute_result"
    }
   ],
   "source": [
    "np.random.seed(1)\n",
    "df = pd.DataFrame({\n",
    "    'x': np.random.randint(10, 100, size=10),\n",
    "    'y': np.random.randint(10, 100, size=10)\n",
    "})\n",
    "\n",
    "clusterer = KMeans(3, random_state=0)\n",
    "group = clusterer.fit_predict(df.values)\n",
    "\n",
    "df.assign(group=group)"
   ]
  },
  {
   "cell_type": "markdown",
   "metadata": {},
   "source": [
    "### Mapping"
   ]
  },
  {
   "cell_type": "code",
   "execution_count": 2,
   "metadata": {},
   "outputs": [
    {
     "data": {
      "text/html": [
       "<div>\n",
       "<style scoped>\n",
       "    .dataframe tbody tr th:only-of-type {\n",
       "        vertical-align: middle;\n",
       "    }\n",
       "\n",
       "    .dataframe tbody tr th {\n",
       "        vertical-align: top;\n",
       "    }\n",
       "\n",
       "    .dataframe thead th {\n",
       "        text-align: right;\n",
       "    }\n",
       "</style>\n",
       "<table border=\"1\" class=\"dataframe\">\n",
       "  <thead>\n",
       "    <tr style=\"text-align: right;\">\n",
       "      <th></th>\n",
       "      <th>x</th>\n",
       "      <th>x_map</th>\n",
       "    </tr>\n",
       "  </thead>\n",
       "  <tbody>\n",
       "    <tr>\n",
       "      <th>0</th>\n",
       "      <td>England</td>\n",
       "      <td>Europe</td>\n",
       "    </tr>\n",
       "    <tr>\n",
       "      <th>1</th>\n",
       "      <td>France</td>\n",
       "      <td>Europe</td>\n",
       "    </tr>\n",
       "    <tr>\n",
       "      <th>2</th>\n",
       "      <td>Germany</td>\n",
       "      <td>Europe</td>\n",
       "    </tr>\n",
       "    <tr>\n",
       "      <th>3</th>\n",
       "      <td>Korea</td>\n",
       "      <td>Asia</td>\n",
       "    </tr>\n",
       "    <tr>\n",
       "      <th>4</th>\n",
       "      <td>Japan</td>\n",
       "      <td>Asia</td>\n",
       "    </tr>\n",
       "  </tbody>\n",
       "</table>\n",
       "</div>"
      ],
      "text/plain": [
       "         x   x_map\n",
       "0  England  Europe\n",
       "1   France  Europe\n",
       "2  Germany  Europe\n",
       "3    Korea    Asia\n",
       "4    Japan    Asia"
      ]
     },
     "execution_count": 2,
     "metadata": {},
     "output_type": "execute_result"
    }
   ],
   "source": [
    "df = pd.DataFrame({'x': ['England', 'France', 'Germany', 'Korea', 'Japan']})\n",
    "\n",
    "x_map = df.x.map({\n",
    "    'England': 'Europe', 'France': 'Europe', 'Germany': 'Europe',\n",
    "    'Korea': 'Asia', 'Japan': 'Asia'\n",
    "})\n",
    "\n",
    "df.assign(x_map=x_map)"
   ]
  },
  {
   "cell_type": "markdown",
   "metadata": {},
   "source": [
    "## 1.3. Encoding\n",
    "Encoding is the technique that transforms a categorical variable to numerical variables."
   ]
  },
  {
   "cell_type": "code",
   "execution_count": 1,
   "metadata": {},
   "outputs": [],
   "source": [
    "import numpy as np\n",
    "import pandas as pd\n",
    "from sklearn.preprocessing import LabelBinarizer"
   ]
  },
  {
   "cell_type": "markdown",
   "metadata": {},
   "source": [
    "### Mapping\n",
    "Mapping is used to transform ordinal data to numerical data."
   ]
  },
  {
   "cell_type": "code",
   "execution_count": 16,
   "metadata": {},
   "outputs": [
    {
     "data": {
      "text/html": [
       "<div>\n",
       "<style scoped>\n",
       "    .dataframe tbody tr th:only-of-type {\n",
       "        vertical-align: middle;\n",
       "    }\n",
       "\n",
       "    .dataframe tbody tr th {\n",
       "        vertical-align: top;\n",
       "    }\n",
       "\n",
       "    .dataframe thead th {\n",
       "        text-align: right;\n",
       "    }\n",
       "</style>\n",
       "<table border=\"1\" class=\"dataframe\">\n",
       "  <thead>\n",
       "    <tr style=\"text-align: right;\">\n",
       "      <th></th>\n",
       "      <th>x</th>\n",
       "      <th>x_encoded</th>\n",
       "    </tr>\n",
       "  </thead>\n",
       "  <tbody>\n",
       "    <tr>\n",
       "      <th>0</th>\n",
       "      <td>Low</td>\n",
       "      <td>1</td>\n",
       "    </tr>\n",
       "    <tr>\n",
       "      <th>1</th>\n",
       "      <td>Medium</td>\n",
       "      <td>2</td>\n",
       "    </tr>\n",
       "    <tr>\n",
       "      <th>2</th>\n",
       "      <td>High</td>\n",
       "      <td>3</td>\n",
       "    </tr>\n",
       "    <tr>\n",
       "      <th>3</th>\n",
       "      <td>High</td>\n",
       "      <td>3</td>\n",
       "    </tr>\n",
       "    <tr>\n",
       "      <th>4</th>\n",
       "      <td>Medium</td>\n",
       "      <td>2</td>\n",
       "    </tr>\n",
       "  </tbody>\n",
       "</table>\n",
       "</div>"
      ],
      "text/plain": [
       "        x  x_encoded\n",
       "0     Low          1\n",
       "1  Medium          2\n",
       "2    High          3\n",
       "3    High          3\n",
       "4  Medium          2"
      ]
     },
     "execution_count": 16,
     "metadata": {},
     "output_type": "execute_result"
    }
   ],
   "source": [
    "df = pd.DataFrame({\n",
    "    'x': ['Low', 'Medium', 'High', 'High', 'Medium']\n",
    "})\n",
    "\n",
    "x_encoded = df.x.map({'Low': 1, 'Medium': 2, 'High': 3})\n",
    "\n",
    "df.assign(x_encoded=x_encoded)"
   ]
  },
  {
   "cell_type": "markdown",
   "metadata": {},
   "source": [
    "### One-hot encoding\n",
    "This technique is used to transform nominal data to numerical data."
   ]
  },
  {
   "cell_type": "code",
   "execution_count": 15,
   "metadata": {},
   "outputs": [
    {
     "data": {
      "text/html": [
       "<div>\n",
       "<style scoped>\n",
       "    .dataframe tbody tr th:only-of-type {\n",
       "        vertical-align: middle;\n",
       "    }\n",
       "\n",
       "    .dataframe tbody tr th {\n",
       "        vertical-align: top;\n",
       "    }\n",
       "\n",
       "    .dataframe thead th {\n",
       "        text-align: right;\n",
       "    }\n",
       "</style>\n",
       "<table border=\"1\" class=\"dataframe\">\n",
       "  <thead>\n",
       "    <tr style=\"text-align: right;\">\n",
       "      <th></th>\n",
       "      <th>x</th>\n",
       "      <th>Apple</th>\n",
       "      <th>Mango</th>\n",
       "      <th>Orange</th>\n",
       "    </tr>\n",
       "  </thead>\n",
       "  <tbody>\n",
       "    <tr>\n",
       "      <th>0</th>\n",
       "      <td>Apple</td>\n",
       "      <td>1</td>\n",
       "      <td>0</td>\n",
       "      <td>0</td>\n",
       "    </tr>\n",
       "    <tr>\n",
       "      <th>1</th>\n",
       "      <td>Apple</td>\n",
       "      <td>1</td>\n",
       "      <td>0</td>\n",
       "      <td>0</td>\n",
       "    </tr>\n",
       "    <tr>\n",
       "      <th>2</th>\n",
       "      <td>Orange</td>\n",
       "      <td>0</td>\n",
       "      <td>0</td>\n",
       "      <td>1</td>\n",
       "    </tr>\n",
       "    <tr>\n",
       "      <th>3</th>\n",
       "      <td>Mango</td>\n",
       "      <td>0</td>\n",
       "      <td>1</td>\n",
       "      <td>0</td>\n",
       "    </tr>\n",
       "    <tr>\n",
       "      <th>4</th>\n",
       "      <td>Apple</td>\n",
       "      <td>1</td>\n",
       "      <td>0</td>\n",
       "      <td>0</td>\n",
       "    </tr>\n",
       "  </tbody>\n",
       "</table>\n",
       "</div>"
      ],
      "text/plain": [
       "        x  Apple  Mango  Orange\n",
       "0   Apple      1      0       0\n",
       "1   Apple      1      0       0\n",
       "2  Orange      0      0       1\n",
       "3   Mango      0      1       0\n",
       "4   Apple      1      0       0"
      ]
     },
     "execution_count": 15,
     "metadata": {},
     "output_type": "execute_result"
    }
   ],
   "source": [
    "df = pd.DataFrame({\n",
    "    'x': ['Apple', 'Apple', 'Orange', 'Mango', 'Apple']\n",
    "})\n",
    "\n",
    "encoder = LabelBinarizer()\n",
    "x_encoded = pd.DataFrame(\n",
    "    data=encoder.fit_transform(df.x.values.reshape(-1,1)),\n",
    "    columns=encoder.classes_)\n",
    "\n",
    "df.join(x_encoded)"
   ]
  },
  {
   "cell_type": "markdown",
   "metadata": {},
   "source": [
    "# 2. Feature synthesis\n",
    "- https://featuretools.alteryx.com/en/stable/\n",
    "- https://towardsdatascience.com/automated-feature-engineering-in-python-99baf11cc219\n",
    "- https://www.kaggle.com/code/willkoehrsen/automated-feature-engineering-basics/notebook#Deep-Feature-Synthesis"
   ]
  },
  {
   "cell_type": "markdown",
   "metadata": {},
   "source": [
    "## 2.1. Synthesis within a table"
   ]
  },
  {
   "cell_type": "markdown",
   "metadata": {},
   "source": [
    "## 2.2. Aggregating across tables"
   ]
  },
  {
   "cell_type": "markdown",
   "metadata": {},
   "source": [
    "# 3. Pipeline\n",
    "A data science project has multiple steps of getting data, cleaning, transforming, modeling and evalutating. To make the complicated process to become easier, Scikit-learn provides the [pipeline](https://scikit-learn.org/stable/modules/compose.html) module. The purpose of the pipeline is to assemble several steps sequentially and can be reused for different datasets in the future."
   ]
  },
  {
   "cell_type": "markdown",
   "metadata": {},
   "source": [
    "## 3.1. Data preprocessing"
   ]
  },
  {
   "cell_type": "code",
   "execution_count": 1,
   "metadata": {
    "execution": {
     "iopub.execute_input": "2022-08-17T17:30:40.036304Z",
     "iopub.status.busy": "2022-08-17T17:30:40.035788Z",
     "iopub.status.idle": "2022-08-17T17:30:41.693661Z",
     "shell.execute_reply": "2022-08-17T17:30:41.692950Z",
     "shell.execute_reply.started": "2022-08-17T17:30:40.036231Z"
    },
    "tags": []
   },
   "outputs": [],
   "source": [
    "import numpy as np\n",
    "import pandas as pd\n",
    "from scipy import stats\n",
    "np.set_printoptions(precision=4, suppress=True)\n",
    "\n",
    "from sklearn.model_selection import train_test_split, GridSearchCV \n",
    "from sklearn.impute import SimpleImputer, KNNImputer\n",
    "from sklearn.compose import ColumnTransformer\n",
    "from sklearn.pipeline import Pipeline, make_pipeline\n",
    "from sklearn.preprocessing import StandardScaler, MinMaxScaler, FunctionTransformer, OneHotEncoder, OrdinalEncoder\n",
    "from sklearn.tree import DecisionTreeClassifier"
   ]
  },
  {
   "cell_type": "code",
   "execution_count": 2,
   "metadata": {
    "execution": {
     "iopub.execute_input": "2022-08-17T17:30:41.695259Z",
     "iopub.status.busy": "2022-08-17T17:30:41.694909Z",
     "iopub.status.idle": "2022-08-17T17:30:41.706134Z",
     "shell.execute_reply": "2022-08-17T17:30:41.705366Z",
     "shell.execute_reply.started": "2022-08-17T17:30:41.695235Z"
    },
    "tags": []
   },
   "outputs": [],
   "source": [
    "dfTitanic = pd.read_csv('data/titanic_train.csv')\n",
    "\n",
    "x = dfTitanic.drop(columns='Survived')\n",
    "y = dfTitanic.Survived\n",
    "\n",
    "xTrain, xTest, yTrain, yTest = train_test_split(x, y, test_size=0.2, random_state=7)"
   ]
  },
  {
   "cell_type": "code",
   "execution_count": 3,
   "metadata": {
    "execution": {
     "iopub.execute_input": "2022-08-17T17:30:41.708422Z",
     "iopub.status.busy": "2022-08-17T17:30:41.707886Z",
     "iopub.status.idle": "2022-08-17T17:30:41.737498Z",
     "shell.execute_reply": "2022-08-17T17:30:41.736116Z",
     "shell.execute_reply.started": "2022-08-17T17:30:41.708373Z"
    },
    "tags": []
   },
   "outputs": [
    {
     "data": {
      "text/html": [
       "<div>\n",
       "<style scoped>\n",
       "    .dataframe tbody tr th:only-of-type {\n",
       "        vertical-align: middle;\n",
       "    }\n",
       "\n",
       "    .dataframe tbody tr th {\n",
       "        vertical-align: top;\n",
       "    }\n",
       "\n",
       "    .dataframe thead th {\n",
       "        text-align: right;\n",
       "    }\n",
       "</style>\n",
       "<table border=\"1\" class=\"dataframe\">\n",
       "  <thead>\n",
       "    <tr style=\"text-align: right;\">\n",
       "      <th></th>\n",
       "      <th>PassengerId</th>\n",
       "      <th>Pclass</th>\n",
       "      <th>Name</th>\n",
       "      <th>Sex</th>\n",
       "      <th>Age</th>\n",
       "      <th>SibSp</th>\n",
       "      <th>Parch</th>\n",
       "      <th>Ticket</th>\n",
       "      <th>Fare</th>\n",
       "      <th>Cabin</th>\n",
       "      <th>Embarked</th>\n",
       "    </tr>\n",
       "  </thead>\n",
       "  <tbody>\n",
       "    <tr>\n",
       "      <th>205</th>\n",
       "      <td>206</td>\n",
       "      <td>3</td>\n",
       "      <td>Strom, Miss. Telma Matilda</td>\n",
       "      <td>female</td>\n",
       "      <td>2.0</td>\n",
       "      <td>0</td>\n",
       "      <td>1</td>\n",
       "      <td>347054</td>\n",
       "      <td>10.4625</td>\n",
       "      <td>G6</td>\n",
       "      <td>S</td>\n",
       "    </tr>\n",
       "    <tr>\n",
       "      <th>718</th>\n",
       "      <td>719</td>\n",
       "      <td>3</td>\n",
       "      <td>McEvoy, Mr. Michael</td>\n",
       "      <td>male</td>\n",
       "      <td>NaN</td>\n",
       "      <td>0</td>\n",
       "      <td>0</td>\n",
       "      <td>36568</td>\n",
       "      <td>15.5000</td>\n",
       "      <td>NaN</td>\n",
       "      <td>Q</td>\n",
       "    </tr>\n",
       "    <tr>\n",
       "      <th>835</th>\n",
       "      <td>836</td>\n",
       "      <td>1</td>\n",
       "      <td>Compton, Miss. Sara Rebecca</td>\n",
       "      <td>female</td>\n",
       "      <td>39.0</td>\n",
       "      <td>1</td>\n",
       "      <td>1</td>\n",
       "      <td>PC 17756</td>\n",
       "      <td>83.1583</td>\n",
       "      <td>E49</td>\n",
       "      <td>C</td>\n",
       "    </tr>\n",
       "    <tr>\n",
       "      <th>851</th>\n",
       "      <td>852</td>\n",
       "      <td>3</td>\n",
       "      <td>Svensson, Mr. Johan</td>\n",
       "      <td>male</td>\n",
       "      <td>74.0</td>\n",
       "      <td>0</td>\n",
       "      <td>0</td>\n",
       "      <td>347060</td>\n",
       "      <td>7.7750</td>\n",
       "      <td>NaN</td>\n",
       "      <td>S</td>\n",
       "    </tr>\n",
       "    <tr>\n",
       "      <th>773</th>\n",
       "      <td>774</td>\n",
       "      <td>3</td>\n",
       "      <td>Elias, Mr. Dibo</td>\n",
       "      <td>male</td>\n",
       "      <td>NaN</td>\n",
       "      <td>0</td>\n",
       "      <td>0</td>\n",
       "      <td>2674</td>\n",
       "      <td>7.2250</td>\n",
       "      <td>NaN</td>\n",
       "      <td>C</td>\n",
       "    </tr>\n",
       "  </tbody>\n",
       "</table>\n",
       "</div>"
      ],
      "text/plain": [
       "     PassengerId  Pclass                         Name     Sex   Age  SibSp  \\\n",
       "205          206       3   Strom, Miss. Telma Matilda  female   2.0      0   \n",
       "718          719       3          McEvoy, Mr. Michael    male   NaN      0   \n",
       "835          836       1  Compton, Miss. Sara Rebecca  female  39.0      1   \n",
       "851          852       3          Svensson, Mr. Johan    male  74.0      0   \n",
       "773          774       3              Elias, Mr. Dibo    male   NaN      0   \n",
       "\n",
       "     Parch    Ticket     Fare Cabin Embarked  \n",
       "205      1    347054  10.4625    G6        S  \n",
       "718      0     36568  15.5000   NaN        Q  \n",
       "835      1  PC 17756  83.1583   E49        C  \n",
       "851      0    347060   7.7750   NaN        S  \n",
       "773      0      2674   7.2250   NaN        C  "
      ]
     },
     "execution_count": 3,
     "metadata": {},
     "output_type": "execute_result"
    }
   ],
   "source": [
    "xTrain.head()"
   ]
  },
  {
   "cell_type": "markdown",
   "metadata": {},
   "source": [
    "### Simple pipeline\n",
    "A simple preprocesing pipeline applies transformers to all columns. Provided via the class\n",
    "<code style='font-size:13px'><a href='https://scikit-learn.org/stable/modules/generated/sklearn.pipeline.Pipeline.html'>Pipeline</a></code>,\n",
    "the main component we would care about is the steps, which is constructed using a list of tuples with the signature\n",
    "<code style='font-size:13px'>(name, transformer)</code>."
   ]
  },
  {
   "cell_type": "code",
   "execution_count": 4,
   "metadata": {
    "execution": {
     "iopub.execute_input": "2022-08-17T17:30:41.740002Z",
     "iopub.status.busy": "2022-08-17T17:30:41.739599Z",
     "iopub.status.idle": "2022-08-17T17:30:41.750605Z",
     "shell.execute_reply": "2022-08-17T17:30:41.749899Z",
     "shell.execute_reply.started": "2022-08-17T17:30:41.739975Z"
    }
   },
   "outputs": [
    {
     "data": {
      "text/plain": [
       "array([[-2.1265, -0.431 ],\n",
       "       [-0.    , -0.3352],\n",
       "       [ 0.7519,  0.951 ],\n",
       "       ...,\n",
       "       [ 0.0518,  1.3934],\n",
       "       [-0.    , -0.4826],\n",
       "       [-0.8818, -0.4806]])"
      ]
     },
     "execution_count": 4,
     "metadata": {},
     "output_type": "execute_result"
    }
   ],
   "source": [
    "trans = Pipeline([\n",
    "    ('Impute', SimpleImputer(strategy='mean')),\n",
    "    ('Scale', StandardScaler()),\n",
    "])\n",
    "\n",
    "trans.fit_transform(xTrain[['Age', 'Fare']])"
   ]
  },
  {
   "cell_type": "markdown",
   "metadata": {},
   "source": [
    "### Column transformer\n",
    "The problem arises when we would probably want to apply diffrent pipelines to different subsets of features such as categorical and numerical. To tackle this, Scikit-learn provides the class\n",
    "<code style='font-size:13px'><a href='https://scikit-learn.org/stable/modules/generated/sklearn.compose.ColumnTransformer.html'>ColumnTransformer</a></code>\n",
    "which accepts a list of tuples with the signature\n",
    "<code style='font-size:13px'>(name, transformer, columns)</code>.\n",
    "\n",
    "We can use any Scikit-learn's transformer stand alone as well as a pipeline. To specify columns, the best practice is using column names, but the class also accepts column indices. Also note that if a feature appears in different steps, only the first step takes effect."
   ]
  },
  {
   "cell_type": "code",
   "execution_count": 5,
   "metadata": {
    "execution": {
     "iopub.execute_input": "2022-08-17T17:30:41.751927Z",
     "iopub.status.busy": "2022-08-17T17:30:41.751654Z",
     "iopub.status.idle": "2022-08-17T17:30:41.758227Z",
     "shell.execute_reply": "2022-08-17T17:30:41.757456Z",
     "shell.execute_reply.started": "2022-08-17T17:30:41.751904Z"
    }
   },
   "outputs": [],
   "source": [
    "name1 = 'Categorical1'\n",
    "cols1 = ['Ticket', 'Cabin']\n",
    "trans1 = Pipeline([\n",
    "    ('Impute', SimpleImputer(strategy='constant')),\n",
    "    ('Encode', OrdinalEncoder(handle_unknown='use_encoded_value', unknown_value=-1))\n",
    "])\n",
    "\n",
    "name2 = 'Categorical2'\n",
    "cols2 = ['Sex', 'Embarked']\n",
    "trans2 = OneHotEncoder(handle_unknown='ignore')\n",
    "\n",
    "name3 = 'Numerical'\n",
    "cols3 = ['Age', 'Fare']\n",
    "trans3 = Pipeline([\n",
    "    ('Impute', KNNImputer(n_neighbors=5)),\n",
    "    ('Scale', StandardScaler()),\n",
    "    ('Transform', FunctionTransformer(lambda x: np.exp(x)))\n",
    "])\n",
    "\n",
    "name4 = 'Integer'\n",
    "cols4 = ['Pclass', 'SibSp', 'Parch']\n",
    "trans4 = 'passthrough'\n",
    "\n",
    "name5 = 'Unique'\n",
    "cols5 = ['PassengerId', 'Name']\n",
    "trans5 = 'drop'"
   ]
  },
  {
   "cell_type": "code",
   "execution_count": 6,
   "metadata": {
    "execution": {
     "iopub.execute_input": "2022-08-17T17:30:41.759846Z",
     "iopub.status.busy": "2022-08-17T17:30:41.759546Z",
     "iopub.status.idle": "2022-08-17T17:30:41.832283Z",
     "shell.execute_reply": "2022-08-17T17:30:41.831163Z",
     "shell.execute_reply.started": "2022-08-17T17:30:41.759822Z"
    }
   },
   "outputs": [
    {
     "data": {
      "text/html": [
       "<style>#sk-container-id-1 {color: black;background-color: white;}#sk-container-id-1 pre{padding: 0;}#sk-container-id-1 div.sk-toggleable {background-color: white;}#sk-container-id-1 label.sk-toggleable__label {cursor: pointer;display: block;width: 100%;margin-bottom: 0;padding: 0.3em;box-sizing: border-box;text-align: center;}#sk-container-id-1 label.sk-toggleable__label-arrow:before {content: \"▸\";float: left;margin-right: 0.25em;color: #696969;}#sk-container-id-1 label.sk-toggleable__label-arrow:hover:before {color: black;}#sk-container-id-1 div.sk-estimator:hover label.sk-toggleable__label-arrow:before {color: black;}#sk-container-id-1 div.sk-toggleable__content {max-height: 0;max-width: 0;overflow: hidden;text-align: left;background-color: #f0f8ff;}#sk-container-id-1 div.sk-toggleable__content pre {margin: 0.2em;color: black;border-radius: 0.25em;background-color: #f0f8ff;}#sk-container-id-1 input.sk-toggleable__control:checked~div.sk-toggleable__content {max-height: 200px;max-width: 100%;overflow: auto;}#sk-container-id-1 input.sk-toggleable__control:checked~label.sk-toggleable__label-arrow:before {content: \"▾\";}#sk-container-id-1 div.sk-estimator input.sk-toggleable__control:checked~label.sk-toggleable__label {background-color: #d4ebff;}#sk-container-id-1 div.sk-label input.sk-toggleable__control:checked~label.sk-toggleable__label {background-color: #d4ebff;}#sk-container-id-1 input.sk-hidden--visually {border: 0;clip: rect(1px 1px 1px 1px);clip: rect(1px, 1px, 1px, 1px);height: 1px;margin: -1px;overflow: hidden;padding: 0;position: absolute;width: 1px;}#sk-container-id-1 div.sk-estimator {font-family: monospace;background-color: #f0f8ff;border: 1px dotted black;border-radius: 0.25em;box-sizing: border-box;margin-bottom: 0.5em;}#sk-container-id-1 div.sk-estimator:hover {background-color: #d4ebff;}#sk-container-id-1 div.sk-parallel-item::after {content: \"\";width: 100%;border-bottom: 1px solid gray;flex-grow: 1;}#sk-container-id-1 div.sk-label:hover label.sk-toggleable__label {background-color: #d4ebff;}#sk-container-id-1 div.sk-serial::before {content: \"\";position: absolute;border-left: 1px solid gray;box-sizing: border-box;top: 0;bottom: 0;left: 50%;z-index: 0;}#sk-container-id-1 div.sk-serial {display: flex;flex-direction: column;align-items: center;background-color: white;padding-right: 0.2em;padding-left: 0.2em;position: relative;}#sk-container-id-1 div.sk-item {position: relative;z-index: 1;}#sk-container-id-1 div.sk-parallel {display: flex;align-items: stretch;justify-content: center;background-color: white;position: relative;}#sk-container-id-1 div.sk-item::before, #sk-container-id-1 div.sk-parallel-item::before {content: \"\";position: absolute;border-left: 1px solid gray;box-sizing: border-box;top: 0;bottom: 0;left: 50%;z-index: -1;}#sk-container-id-1 div.sk-parallel-item {display: flex;flex-direction: column;z-index: 1;position: relative;background-color: white;}#sk-container-id-1 div.sk-parallel-item:first-child::after {align-self: flex-end;width: 50%;}#sk-container-id-1 div.sk-parallel-item:last-child::after {align-self: flex-start;width: 50%;}#sk-container-id-1 div.sk-parallel-item:only-child::after {width: 0;}#sk-container-id-1 div.sk-dashed-wrapped {border: 1px dashed gray;margin: 0 0.4em 0.5em 0.4em;box-sizing: border-box;padding-bottom: 0.4em;background-color: white;}#sk-container-id-1 div.sk-label label {font-family: monospace;font-weight: bold;display: inline-block;line-height: 1.2em;}#sk-container-id-1 div.sk-label-container {text-align: center;}#sk-container-id-1 div.sk-container {/* jupyter's `normalize.less` sets `[hidden] { display: none; }` but bootstrap.min.css set `[hidden] { display: none !important; }` so we also need the `!important` here to be able to override the default hidden behavior on the sphinx rendered scikit-learn.org. See: https://github.com/scikit-learn/scikit-learn/issues/21755 */display: inline-block !important;position: relative;}#sk-container-id-1 div.sk-text-repr-fallback {display: none;}</style><div id=\"sk-container-id-1\" class=\"sk-top-container\"><div class=\"sk-text-repr-fallback\"><pre>ColumnTransformer(transformers=[(&#x27;Categorical1&#x27;,\n",
       "                                 Pipeline(steps=[(&#x27;Impute&#x27;,\n",
       "                                                  SimpleImputer(strategy=&#x27;constant&#x27;)),\n",
       "                                                 (&#x27;Encode&#x27;,\n",
       "                                                  OrdinalEncoder(handle_unknown=&#x27;use_encoded_value&#x27;,\n",
       "                                                                 unknown_value=-1))]),\n",
       "                                 [&#x27;Ticket&#x27;, &#x27;Cabin&#x27;]),\n",
       "                                (&#x27;Categorical2&#x27;,\n",
       "                                 OneHotEncoder(handle_unknown=&#x27;ignore&#x27;),\n",
       "                                 [&#x27;Sex&#x27;, &#x27;Embarked&#x27;]),\n",
       "                                (&#x27;Numerical&#x27;,\n",
       "                                 Pipeline(steps=[(&#x27;Impute&#x27;, KNNImputer()),\n",
       "                                                 (&#x27;Scale&#x27;, StandardScaler()),\n",
       "                                                 (&#x27;Transform&#x27;,\n",
       "                                                  FunctionTransformer(func=&lt;function &lt;lambda&gt; at 0x7fd2ee59ed30&gt;))]),\n",
       "                                 [&#x27;Age&#x27;, &#x27;Fare&#x27;]),\n",
       "                                (&#x27;Integer&#x27;, &#x27;passthrough&#x27;,\n",
       "                                 [&#x27;Pclass&#x27;, &#x27;SibSp&#x27;, &#x27;Parch&#x27;]),\n",
       "                                (&#x27;Unique&#x27;, &#x27;drop&#x27;, [&#x27;PassengerId&#x27;, &#x27;Name&#x27;])])</pre><b>In a Jupyter environment, please rerun this cell to show the HTML representation or trust the notebook. <br />On GitHub, the HTML representation is unable to render, please try loading this page with nbviewer.org.</b></div><div class=\"sk-container\" hidden><div class=\"sk-item sk-dashed-wrapped\"><div class=\"sk-label-container\"><div class=\"sk-label sk-toggleable\"><input class=\"sk-toggleable__control sk-hidden--visually\" id=\"sk-estimator-id-1\" type=\"checkbox\" ><label for=\"sk-estimator-id-1\" class=\"sk-toggleable__label sk-toggleable__label-arrow\">ColumnTransformer</label><div class=\"sk-toggleable__content\"><pre>ColumnTransformer(transformers=[(&#x27;Categorical1&#x27;,\n",
       "                                 Pipeline(steps=[(&#x27;Impute&#x27;,\n",
       "                                                  SimpleImputer(strategy=&#x27;constant&#x27;)),\n",
       "                                                 (&#x27;Encode&#x27;,\n",
       "                                                  OrdinalEncoder(handle_unknown=&#x27;use_encoded_value&#x27;,\n",
       "                                                                 unknown_value=-1))]),\n",
       "                                 [&#x27;Ticket&#x27;, &#x27;Cabin&#x27;]),\n",
       "                                (&#x27;Categorical2&#x27;,\n",
       "                                 OneHotEncoder(handle_unknown=&#x27;ignore&#x27;),\n",
       "                                 [&#x27;Sex&#x27;, &#x27;Embarked&#x27;]),\n",
       "                                (&#x27;Numerical&#x27;,\n",
       "                                 Pipeline(steps=[(&#x27;Impute&#x27;, KNNImputer()),\n",
       "                                                 (&#x27;Scale&#x27;, StandardScaler()),\n",
       "                                                 (&#x27;Transform&#x27;,\n",
       "                                                  FunctionTransformer(func=&lt;function &lt;lambda&gt; at 0x7fd2ee59ed30&gt;))]),\n",
       "                                 [&#x27;Age&#x27;, &#x27;Fare&#x27;]),\n",
       "                                (&#x27;Integer&#x27;, &#x27;passthrough&#x27;,\n",
       "                                 [&#x27;Pclass&#x27;, &#x27;SibSp&#x27;, &#x27;Parch&#x27;]),\n",
       "                                (&#x27;Unique&#x27;, &#x27;drop&#x27;, [&#x27;PassengerId&#x27;, &#x27;Name&#x27;])])</pre></div></div></div><div class=\"sk-parallel\"><div class=\"sk-parallel-item\"><div class=\"sk-item\"><div class=\"sk-label-container\"><div class=\"sk-label sk-toggleable\"><input class=\"sk-toggleable__control sk-hidden--visually\" id=\"sk-estimator-id-2\" type=\"checkbox\" ><label for=\"sk-estimator-id-2\" class=\"sk-toggleable__label sk-toggleable__label-arrow\">Categorical1</label><div class=\"sk-toggleable__content\"><pre>[&#x27;Ticket&#x27;, &#x27;Cabin&#x27;]</pre></div></div></div><div class=\"sk-serial\"><div class=\"sk-item\"><div class=\"sk-serial\"><div class=\"sk-item\"><div class=\"sk-estimator sk-toggleable\"><input class=\"sk-toggleable__control sk-hidden--visually\" id=\"sk-estimator-id-3\" type=\"checkbox\" ><label for=\"sk-estimator-id-3\" class=\"sk-toggleable__label sk-toggleable__label-arrow\">SimpleImputer</label><div class=\"sk-toggleable__content\"><pre>SimpleImputer(strategy=&#x27;constant&#x27;)</pre></div></div></div><div class=\"sk-item\"><div class=\"sk-estimator sk-toggleable\"><input class=\"sk-toggleable__control sk-hidden--visually\" id=\"sk-estimator-id-4\" type=\"checkbox\" ><label for=\"sk-estimator-id-4\" class=\"sk-toggleable__label sk-toggleable__label-arrow\">OrdinalEncoder</label><div class=\"sk-toggleable__content\"><pre>OrdinalEncoder(handle_unknown=&#x27;use_encoded_value&#x27;, unknown_value=-1)</pre></div></div></div></div></div></div></div></div><div class=\"sk-parallel-item\"><div class=\"sk-item\"><div class=\"sk-label-container\"><div class=\"sk-label sk-toggleable\"><input class=\"sk-toggleable__control sk-hidden--visually\" id=\"sk-estimator-id-5\" type=\"checkbox\" ><label for=\"sk-estimator-id-5\" class=\"sk-toggleable__label sk-toggleable__label-arrow\">Categorical2</label><div class=\"sk-toggleable__content\"><pre>[&#x27;Sex&#x27;, &#x27;Embarked&#x27;]</pre></div></div></div><div class=\"sk-serial\"><div class=\"sk-item\"><div class=\"sk-estimator sk-toggleable\"><input class=\"sk-toggleable__control sk-hidden--visually\" id=\"sk-estimator-id-6\" type=\"checkbox\" ><label for=\"sk-estimator-id-6\" class=\"sk-toggleable__label sk-toggleable__label-arrow\">OneHotEncoder</label><div class=\"sk-toggleable__content\"><pre>OneHotEncoder(handle_unknown=&#x27;ignore&#x27;)</pre></div></div></div></div></div></div><div class=\"sk-parallel-item\"><div class=\"sk-item\"><div class=\"sk-label-container\"><div class=\"sk-label sk-toggleable\"><input class=\"sk-toggleable__control sk-hidden--visually\" id=\"sk-estimator-id-7\" type=\"checkbox\" ><label for=\"sk-estimator-id-7\" class=\"sk-toggleable__label sk-toggleable__label-arrow\">Numerical</label><div class=\"sk-toggleable__content\"><pre>[&#x27;Age&#x27;, &#x27;Fare&#x27;]</pre></div></div></div><div class=\"sk-serial\"><div class=\"sk-item\"><div class=\"sk-serial\"><div class=\"sk-item\"><div class=\"sk-estimator sk-toggleable\"><input class=\"sk-toggleable__control sk-hidden--visually\" id=\"sk-estimator-id-8\" type=\"checkbox\" ><label for=\"sk-estimator-id-8\" class=\"sk-toggleable__label sk-toggleable__label-arrow\">KNNImputer</label><div class=\"sk-toggleable__content\"><pre>KNNImputer()</pre></div></div></div><div class=\"sk-item\"><div class=\"sk-estimator sk-toggleable\"><input class=\"sk-toggleable__control sk-hidden--visually\" id=\"sk-estimator-id-9\" type=\"checkbox\" ><label for=\"sk-estimator-id-9\" class=\"sk-toggleable__label sk-toggleable__label-arrow\">StandardScaler</label><div class=\"sk-toggleable__content\"><pre>StandardScaler()</pre></div></div></div><div class=\"sk-item\"><div class=\"sk-estimator sk-toggleable\"><input class=\"sk-toggleable__control sk-hidden--visually\" id=\"sk-estimator-id-10\" type=\"checkbox\" ><label for=\"sk-estimator-id-10\" class=\"sk-toggleable__label sk-toggleable__label-arrow\">FunctionTransformer</label><div class=\"sk-toggleable__content\"><pre>FunctionTransformer(func=&lt;function &lt;lambda&gt; at 0x7fd2ee59ed30&gt;)</pre></div></div></div></div></div></div></div></div><div class=\"sk-parallel-item\"><div class=\"sk-item\"><div class=\"sk-label-container\"><div class=\"sk-label sk-toggleable\"><input class=\"sk-toggleable__control sk-hidden--visually\" id=\"sk-estimator-id-11\" type=\"checkbox\" ><label for=\"sk-estimator-id-11\" class=\"sk-toggleable__label sk-toggleable__label-arrow\">Integer</label><div class=\"sk-toggleable__content\"><pre>[&#x27;Pclass&#x27;, &#x27;SibSp&#x27;, &#x27;Parch&#x27;]</pre></div></div></div><div class=\"sk-serial\"><div class=\"sk-item\"><div class=\"sk-estimator sk-toggleable\"><input class=\"sk-toggleable__control sk-hidden--visually\" id=\"sk-estimator-id-12\" type=\"checkbox\" ><label for=\"sk-estimator-id-12\" class=\"sk-toggleable__label sk-toggleable__label-arrow\">passthrough</label><div class=\"sk-toggleable__content\"><pre>passthrough</pre></div></div></div></div></div></div><div class=\"sk-parallel-item\"><div class=\"sk-item\"><div class=\"sk-label-container\"><div class=\"sk-label sk-toggleable\"><input class=\"sk-toggleable__control sk-hidden--visually\" id=\"sk-estimator-id-13\" type=\"checkbox\" ><label for=\"sk-estimator-id-13\" class=\"sk-toggleable__label sk-toggleable__label-arrow\">Unique</label><div class=\"sk-toggleable__content\"><pre>[&#x27;PassengerId&#x27;, &#x27;Name&#x27;]</pre></div></div></div><div class=\"sk-serial\"><div class=\"sk-item\"><div class=\"sk-estimator sk-toggleable\"><input class=\"sk-toggleable__control sk-hidden--visually\" id=\"sk-estimator-id-14\" type=\"checkbox\" ><label for=\"sk-estimator-id-14\" class=\"sk-toggleable__label sk-toggleable__label-arrow\">drop</label><div class=\"sk-toggleable__content\"><pre>drop</pre></div></div></div></div></div></div></div></div></div></div>"
      ],
      "text/plain": [
       "ColumnTransformer(transformers=[('Categorical1',\n",
       "                                 Pipeline(steps=[('Impute',\n",
       "                                                  SimpleImputer(strategy='constant')),\n",
       "                                                 ('Encode',\n",
       "                                                  OrdinalEncoder(handle_unknown='use_encoded_value',\n",
       "                                                                 unknown_value=-1))]),\n",
       "                                 ['Ticket', 'Cabin']),\n",
       "                                ('Categorical2',\n",
       "                                 OneHotEncoder(handle_unknown='ignore'),\n",
       "                                 ['Sex', 'Embarked']),\n",
       "                                ('Numerical',\n",
       "                                 Pipeline(steps=[('Impute', KNNImputer()),\n",
       "                                                 ('Scale', StandardScaler()),\n",
       "                                                 ('Transform',\n",
       "                                                  FunctionTransformer(func=<function <lambda> at 0x7fd2ee59ed30>))]),\n",
       "                                 ['Age', 'Fare']),\n",
       "                                ('Integer', 'passthrough',\n",
       "                                 ['Pclass', 'SibSp', 'Parch']),\n",
       "                                ('Unique', 'drop', ['PassengerId', 'Name'])])"
      ]
     },
     "execution_count": 6,
     "metadata": {},
     "output_type": "execute_result"
    }
   ],
   "source": [
    "trans = ColumnTransformer([\n",
    "    (name1, trans1, cols1),\n",
    "    (name2, trans2, cols2),\n",
    "    (name3, trans3, cols3),\n",
    "    (name4, trans4, cols4),\n",
    "    (name5, trans5, cols5),\n",
    "])\n",
    "\n",
    "trans.fit(xTrain)\n",
    "trans"
   ]
  },
  {
   "cell_type": "code",
   "execution_count": 7,
   "metadata": {
    "execution": {
     "iopub.execute_input": "2022-08-17T17:30:41.833815Z",
     "iopub.status.busy": "2022-08-17T17:30:41.833548Z",
     "iopub.status.idle": "2022-08-17T17:30:41.852498Z",
     "shell.execute_reply": "2022-08-17T17:30:41.851695Z",
     "shell.execute_reply.started": "2022-08-17T17:30:41.833793Z"
    }
   },
   "outputs": [
    {
     "data": {
      "text/plain": [
       "array([[ -1., 126.,   0., ...,   3.,   0.,   0.],\n",
       "       [ -1., 126.,   0., ...,   2.,   1.,   0.],\n",
       "       [ -1., 126.,   0., ...,   3.,   0.,   0.],\n",
       "       ...,\n",
       "       [ -1., 126.,   0., ...,   3.,   0.,   0.],\n",
       "       [ -1., 126.,   0., ...,   3.,   0.,   0.],\n",
       "       [475., 126.,   1., ...,   2.,   1.,   0.]])"
      ]
     },
     "execution_count": 7,
     "metadata": {},
     "output_type": "execute_result"
    }
   ],
   "source": [
    "trans.transform(xTest)"
   ]
  },
  {
   "cell_type": "markdown",
   "metadata": {},
   "source": [
    "## 3.2. Modeling\n",
    "A <code style='font-size:13px'>Pipeline</code> is very useful for data preprocessing, but it can also be used for modeling."
   ]
  },
  {
   "cell_type": "code",
   "execution_count": 8,
   "metadata": {
    "execution": {
     "iopub.execute_input": "2022-08-17T17:30:41.855337Z",
     "iopub.status.busy": "2022-08-17T17:30:41.854958Z",
     "iopub.status.idle": "2022-08-17T17:30:45.836867Z",
     "shell.execute_reply": "2022-08-17T17:30:45.836268Z",
     "shell.execute_reply.started": "2022-08-17T17:30:41.855312Z"
    },
    "tags": []
   },
   "outputs": [],
   "source": [
    "import datetime as dt\n",
    "import numpy as np\n",
    "import pandas as pd\n",
    "from scipy import stats\n",
    "np.set_printoptions(precision=4, suppress=True)\n",
    "\n",
    "from sklearn.model_selection import train_test_split, GridSearchCV \n",
    "from sklearn.impute import SimpleImputer, KNNImputer\n",
    "from sklearn.compose import ColumnTransformer\n",
    "from sklearn.pipeline import Pipeline, make_pipeline\n",
    "from sklearn.preprocessing import StandardScaler, MinMaxScaler, FunctionTransformer, OneHotEncoder, OrdinalEncoder\n",
    "from sklearn.base import BaseEstimator\n",
    "from sklearn.tree import DecisionTreeClassifier\n",
    "from sklearn.ensemble import RandomForestClassifier, HistGradientBoostingClassifier\n",
    "from sklearn.metrics import roc_auc_score as AUC"
   ]
  },
  {
   "cell_type": "code",
   "execution_count": 9,
   "metadata": {
    "execution": {
     "iopub.execute_input": "2022-08-17T17:30:45.838937Z",
     "iopub.status.busy": "2022-08-17T17:30:45.838517Z",
     "iopub.status.idle": "2022-08-17T17:30:45.850157Z",
     "shell.execute_reply": "2022-08-17T17:30:45.849224Z",
     "shell.execute_reply.started": "2022-08-17T17:30:45.838903Z"
    },
    "tags": []
   },
   "outputs": [],
   "source": [
    "dfTitanic = pd.read_csv('data/titanic_train.csv')\n",
    "\n",
    "x = dfTitanic.drop(columns='Survived')\n",
    "y = dfTitanic.Survived\n",
    "\n",
    "xTrain, xTest, yTrain, yTest = train_test_split(x, y, test_size=0.2, random_state=7)"
   ]
  },
  {
   "cell_type": "code",
   "execution_count": 10,
   "metadata": {
    "execution": {
     "iopub.execute_input": "2022-08-17T17:30:45.852467Z",
     "iopub.status.busy": "2022-08-17T17:30:45.851974Z",
     "iopub.status.idle": "2022-08-17T17:30:45.869665Z",
     "shell.execute_reply": "2022-08-17T17:30:45.868562Z",
     "shell.execute_reply.started": "2022-08-17T17:30:45.852426Z"
    },
    "tags": []
   },
   "outputs": [
    {
     "data": {
      "text/html": [
       "<div>\n",
       "<style scoped>\n",
       "    .dataframe tbody tr th:only-of-type {\n",
       "        vertical-align: middle;\n",
       "    }\n",
       "\n",
       "    .dataframe tbody tr th {\n",
       "        vertical-align: top;\n",
       "    }\n",
       "\n",
       "    .dataframe thead th {\n",
       "        text-align: right;\n",
       "    }\n",
       "</style>\n",
       "<table border=\"1\" class=\"dataframe\">\n",
       "  <thead>\n",
       "    <tr style=\"text-align: right;\">\n",
       "      <th></th>\n",
       "      <th>PassengerId</th>\n",
       "      <th>Pclass</th>\n",
       "      <th>Name</th>\n",
       "      <th>Sex</th>\n",
       "      <th>Age</th>\n",
       "      <th>SibSp</th>\n",
       "      <th>Parch</th>\n",
       "      <th>Ticket</th>\n",
       "      <th>Fare</th>\n",
       "      <th>Cabin</th>\n",
       "      <th>Embarked</th>\n",
       "    </tr>\n",
       "  </thead>\n",
       "  <tbody>\n",
       "    <tr>\n",
       "      <th>205</th>\n",
       "      <td>206</td>\n",
       "      <td>3</td>\n",
       "      <td>Strom, Miss. Telma Matilda</td>\n",
       "      <td>female</td>\n",
       "      <td>2.0</td>\n",
       "      <td>0</td>\n",
       "      <td>1</td>\n",
       "      <td>347054</td>\n",
       "      <td>10.4625</td>\n",
       "      <td>G6</td>\n",
       "      <td>S</td>\n",
       "    </tr>\n",
       "    <tr>\n",
       "      <th>718</th>\n",
       "      <td>719</td>\n",
       "      <td>3</td>\n",
       "      <td>McEvoy, Mr. Michael</td>\n",
       "      <td>male</td>\n",
       "      <td>NaN</td>\n",
       "      <td>0</td>\n",
       "      <td>0</td>\n",
       "      <td>36568</td>\n",
       "      <td>15.5000</td>\n",
       "      <td>NaN</td>\n",
       "      <td>Q</td>\n",
       "    </tr>\n",
       "    <tr>\n",
       "      <th>835</th>\n",
       "      <td>836</td>\n",
       "      <td>1</td>\n",
       "      <td>Compton, Miss. Sara Rebecca</td>\n",
       "      <td>female</td>\n",
       "      <td>39.0</td>\n",
       "      <td>1</td>\n",
       "      <td>1</td>\n",
       "      <td>PC 17756</td>\n",
       "      <td>83.1583</td>\n",
       "      <td>E49</td>\n",
       "      <td>C</td>\n",
       "    </tr>\n",
       "    <tr>\n",
       "      <th>851</th>\n",
       "      <td>852</td>\n",
       "      <td>3</td>\n",
       "      <td>Svensson, Mr. Johan</td>\n",
       "      <td>male</td>\n",
       "      <td>74.0</td>\n",
       "      <td>0</td>\n",
       "      <td>0</td>\n",
       "      <td>347060</td>\n",
       "      <td>7.7750</td>\n",
       "      <td>NaN</td>\n",
       "      <td>S</td>\n",
       "    </tr>\n",
       "    <tr>\n",
       "      <th>773</th>\n",
       "      <td>774</td>\n",
       "      <td>3</td>\n",
       "      <td>Elias, Mr. Dibo</td>\n",
       "      <td>male</td>\n",
       "      <td>NaN</td>\n",
       "      <td>0</td>\n",
       "      <td>0</td>\n",
       "      <td>2674</td>\n",
       "      <td>7.2250</td>\n",
       "      <td>NaN</td>\n",
       "      <td>C</td>\n",
       "    </tr>\n",
       "  </tbody>\n",
       "</table>\n",
       "</div>"
      ],
      "text/plain": [
       "     PassengerId  Pclass                         Name     Sex   Age  SibSp  \\\n",
       "205          206       3   Strom, Miss. Telma Matilda  female   2.0      0   \n",
       "718          719       3          McEvoy, Mr. Michael    male   NaN      0   \n",
       "835          836       1  Compton, Miss. Sara Rebecca  female  39.0      1   \n",
       "851          852       3          Svensson, Mr. Johan    male  74.0      0   \n",
       "773          774       3              Elias, Mr. Dibo    male   NaN      0   \n",
       "\n",
       "     Parch    Ticket     Fare Cabin Embarked  \n",
       "205      1    347054  10.4625    G6        S  \n",
       "718      0     36568  15.5000   NaN        Q  \n",
       "835      1  PC 17756  83.1583   E49        C  \n",
       "851      0    347060   7.7750   NaN        S  \n",
       "773      0      2674   7.2250   NaN        C  "
      ]
     },
     "execution_count": 10,
     "metadata": {},
     "output_type": "execute_result"
    }
   ],
   "source": [
    "xTrain.head()"
   ]
  },
  {
   "cell_type": "code",
   "execution_count": 11,
   "metadata": {
    "execution": {
     "iopub.execute_input": "2022-08-17T17:30:45.871162Z",
     "iopub.status.busy": "2022-08-17T17:30:45.870773Z",
     "iopub.status.idle": "2022-08-17T17:30:45.876537Z",
     "shell.execute_reply": "2022-08-17T17:30:45.875730Z",
     "shell.execute_reply.started": "2022-08-17T17:30:45.871137Z"
    }
   },
   "outputs": [],
   "source": [
    "name1 = 'Categorical1'\n",
    "cols1 = ['Ticket', 'Cabin']\n",
    "trans1 = Pipeline([\n",
    "    ('Impute', SimpleImputer(strategy='constant')),\n",
    "    ('Encode', OrdinalEncoder(handle_unknown='use_encoded_value', unknown_value=-1))\n",
    "])\n",
    "\n",
    "name2 = 'Categorical2'\n",
    "cols2 = ['Sex', 'Embarked']\n",
    "trans2 = OneHotEncoder(handle_unknown='ignore')\n",
    "\n",
    "name3 = 'Numerical'\n",
    "cols3 = ['Age', 'Fare']\n",
    "trans3 = Pipeline([\n",
    "    ('Impute', KNNImputer(n_neighbors=5)),\n",
    "    ('Scale', StandardScaler()),\n",
    "])\n",
    "\n",
    "name4 = 'Integer'\n",
    "cols4 = ['Pclass', 'SibSp', 'Parch']\n",
    "trans4 = 'passthrough'\n",
    "\n",
    "name5 = 'Unique'\n",
    "cols5 = ['PassengerId', 'Name']\n",
    "trans5 = 'drop'"
   ]
  },
  {
   "cell_type": "markdown",
   "metadata": {},
   "source": [
    "### Grid search"
   ]
  },
  {
   "cell_type": "code",
   "execution_count": 12,
   "metadata": {
    "execution": {
     "iopub.execute_input": "2022-08-17T17:30:45.878164Z",
     "iopub.status.busy": "2022-08-17T17:30:45.877871Z",
     "iopub.status.idle": "2022-08-17T17:30:45.941233Z",
     "shell.execute_reply": "2022-08-17T17:30:45.940016Z",
     "shell.execute_reply.started": "2022-08-17T17:30:45.878141Z"
    }
   },
   "outputs": [
    {
     "data": {
      "text/html": [
       "<style>#sk-container-id-2 {color: black;background-color: white;}#sk-container-id-2 pre{padding: 0;}#sk-container-id-2 div.sk-toggleable {background-color: white;}#sk-container-id-2 label.sk-toggleable__label {cursor: pointer;display: block;width: 100%;margin-bottom: 0;padding: 0.3em;box-sizing: border-box;text-align: center;}#sk-container-id-2 label.sk-toggleable__label-arrow:before {content: \"▸\";float: left;margin-right: 0.25em;color: #696969;}#sk-container-id-2 label.sk-toggleable__label-arrow:hover:before {color: black;}#sk-container-id-2 div.sk-estimator:hover label.sk-toggleable__label-arrow:before {color: black;}#sk-container-id-2 div.sk-toggleable__content {max-height: 0;max-width: 0;overflow: hidden;text-align: left;background-color: #f0f8ff;}#sk-container-id-2 div.sk-toggleable__content pre {margin: 0.2em;color: black;border-radius: 0.25em;background-color: #f0f8ff;}#sk-container-id-2 input.sk-toggleable__control:checked~div.sk-toggleable__content {max-height: 200px;max-width: 100%;overflow: auto;}#sk-container-id-2 input.sk-toggleable__control:checked~label.sk-toggleable__label-arrow:before {content: \"▾\";}#sk-container-id-2 div.sk-estimator input.sk-toggleable__control:checked~label.sk-toggleable__label {background-color: #d4ebff;}#sk-container-id-2 div.sk-label input.sk-toggleable__control:checked~label.sk-toggleable__label {background-color: #d4ebff;}#sk-container-id-2 input.sk-hidden--visually {border: 0;clip: rect(1px 1px 1px 1px);clip: rect(1px, 1px, 1px, 1px);height: 1px;margin: -1px;overflow: hidden;padding: 0;position: absolute;width: 1px;}#sk-container-id-2 div.sk-estimator {font-family: monospace;background-color: #f0f8ff;border: 1px dotted black;border-radius: 0.25em;box-sizing: border-box;margin-bottom: 0.5em;}#sk-container-id-2 div.sk-estimator:hover {background-color: #d4ebff;}#sk-container-id-2 div.sk-parallel-item::after {content: \"\";width: 100%;border-bottom: 1px solid gray;flex-grow: 1;}#sk-container-id-2 div.sk-label:hover label.sk-toggleable__label {background-color: #d4ebff;}#sk-container-id-2 div.sk-serial::before {content: \"\";position: absolute;border-left: 1px solid gray;box-sizing: border-box;top: 0;bottom: 0;left: 50%;z-index: 0;}#sk-container-id-2 div.sk-serial {display: flex;flex-direction: column;align-items: center;background-color: white;padding-right: 0.2em;padding-left: 0.2em;position: relative;}#sk-container-id-2 div.sk-item {position: relative;z-index: 1;}#sk-container-id-2 div.sk-parallel {display: flex;align-items: stretch;justify-content: center;background-color: white;position: relative;}#sk-container-id-2 div.sk-item::before, #sk-container-id-2 div.sk-parallel-item::before {content: \"\";position: absolute;border-left: 1px solid gray;box-sizing: border-box;top: 0;bottom: 0;left: 50%;z-index: -1;}#sk-container-id-2 div.sk-parallel-item {display: flex;flex-direction: column;z-index: 1;position: relative;background-color: white;}#sk-container-id-2 div.sk-parallel-item:first-child::after {align-self: flex-end;width: 50%;}#sk-container-id-2 div.sk-parallel-item:last-child::after {align-self: flex-start;width: 50%;}#sk-container-id-2 div.sk-parallel-item:only-child::after {width: 0;}#sk-container-id-2 div.sk-dashed-wrapped {border: 1px dashed gray;margin: 0 0.4em 0.5em 0.4em;box-sizing: border-box;padding-bottom: 0.4em;background-color: white;}#sk-container-id-2 div.sk-label label {font-family: monospace;font-weight: bold;display: inline-block;line-height: 1.2em;}#sk-container-id-2 div.sk-label-container {text-align: center;}#sk-container-id-2 div.sk-container {/* jupyter's `normalize.less` sets `[hidden] { display: none; }` but bootstrap.min.css set `[hidden] { display: none !important; }` so we also need the `!important` here to be able to override the default hidden behavior on the sphinx rendered scikit-learn.org. See: https://github.com/scikit-learn/scikit-learn/issues/21755 */display: inline-block !important;position: relative;}#sk-container-id-2 div.sk-text-repr-fallback {display: none;}</style><div id=\"sk-container-id-2\" class=\"sk-top-container\"><div class=\"sk-text-repr-fallback\"><pre>Pipeline(steps=[(&#x27;Transformer&#x27;,\n",
       "                 ColumnTransformer(transformers=[(&#x27;Categorical1&#x27;,\n",
       "                                                  Pipeline(steps=[(&#x27;Impute&#x27;,\n",
       "                                                                   SimpleImputer(strategy=&#x27;constant&#x27;)),\n",
       "                                                                  (&#x27;Encode&#x27;,\n",
       "                                                                   OrdinalEncoder(handle_unknown=&#x27;use_encoded_value&#x27;,\n",
       "                                                                                  unknown_value=-1))]),\n",
       "                                                  [&#x27;Ticket&#x27;, &#x27;Cabin&#x27;]),\n",
       "                                                 (&#x27;Categorical2&#x27;,\n",
       "                                                  OneHotEncoder(handle_unknown=&#x27;ignore&#x27;),\n",
       "                                                  [&#x27;Sex&#x27;, &#x27;Embarked&#x27;]),\n",
       "                                                 (&#x27;Numerical&#x27;,\n",
       "                                                  Pipeline(steps=[(&#x27;Impute&#x27;,\n",
       "                                                                   KNNImputer()),\n",
       "                                                                  (&#x27;Scale&#x27;,\n",
       "                                                                   StandardScaler())]),\n",
       "                                                  [&#x27;Age&#x27;, &#x27;Fare&#x27;]),\n",
       "                                                 (&#x27;Integer&#x27;, &#x27;passthrough&#x27;,\n",
       "                                                  [&#x27;Pclass&#x27;, &#x27;SibSp&#x27;, &#x27;Parch&#x27;]),\n",
       "                                                 (&#x27;Unique&#x27;, &#x27;drop&#x27;,\n",
       "                                                  [&#x27;PassengerId&#x27;, &#x27;Name&#x27;])])),\n",
       "                (&#x27;ModelRF&#x27;, RandomForestClassifier(random_state=7))])</pre><b>In a Jupyter environment, please rerun this cell to show the HTML representation or trust the notebook. <br />On GitHub, the HTML representation is unable to render, please try loading this page with nbviewer.org.</b></div><div class=\"sk-container\" hidden><div class=\"sk-item sk-dashed-wrapped\"><div class=\"sk-label-container\"><div class=\"sk-label sk-toggleable\"><input class=\"sk-toggleable__control sk-hidden--visually\" id=\"sk-estimator-id-15\" type=\"checkbox\" ><label for=\"sk-estimator-id-15\" class=\"sk-toggleable__label sk-toggleable__label-arrow\">Pipeline</label><div class=\"sk-toggleable__content\"><pre>Pipeline(steps=[(&#x27;Transformer&#x27;,\n",
       "                 ColumnTransformer(transformers=[(&#x27;Categorical1&#x27;,\n",
       "                                                  Pipeline(steps=[(&#x27;Impute&#x27;,\n",
       "                                                                   SimpleImputer(strategy=&#x27;constant&#x27;)),\n",
       "                                                                  (&#x27;Encode&#x27;,\n",
       "                                                                   OrdinalEncoder(handle_unknown=&#x27;use_encoded_value&#x27;,\n",
       "                                                                                  unknown_value=-1))]),\n",
       "                                                  [&#x27;Ticket&#x27;, &#x27;Cabin&#x27;]),\n",
       "                                                 (&#x27;Categorical2&#x27;,\n",
       "                                                  OneHotEncoder(handle_unknown=&#x27;ignore&#x27;),\n",
       "                                                  [&#x27;Sex&#x27;, &#x27;Embarked&#x27;]),\n",
       "                                                 (&#x27;Numerical&#x27;,\n",
       "                                                  Pipeline(steps=[(&#x27;Impute&#x27;,\n",
       "                                                                   KNNImputer()),\n",
       "                                                                  (&#x27;Scale&#x27;,\n",
       "                                                                   StandardScaler())]),\n",
       "                                                  [&#x27;Age&#x27;, &#x27;Fare&#x27;]),\n",
       "                                                 (&#x27;Integer&#x27;, &#x27;passthrough&#x27;,\n",
       "                                                  [&#x27;Pclass&#x27;, &#x27;SibSp&#x27;, &#x27;Parch&#x27;]),\n",
       "                                                 (&#x27;Unique&#x27;, &#x27;drop&#x27;,\n",
       "                                                  [&#x27;PassengerId&#x27;, &#x27;Name&#x27;])])),\n",
       "                (&#x27;ModelRF&#x27;, RandomForestClassifier(random_state=7))])</pre></div></div></div><div class=\"sk-serial\"><div class=\"sk-item sk-dashed-wrapped\"><div class=\"sk-label-container\"><div class=\"sk-label sk-toggleable\"><input class=\"sk-toggleable__control sk-hidden--visually\" id=\"sk-estimator-id-16\" type=\"checkbox\" ><label for=\"sk-estimator-id-16\" class=\"sk-toggleable__label sk-toggleable__label-arrow\">Transformer: ColumnTransformer</label><div class=\"sk-toggleable__content\"><pre>ColumnTransformer(transformers=[(&#x27;Categorical1&#x27;,\n",
       "                                 Pipeline(steps=[(&#x27;Impute&#x27;,\n",
       "                                                  SimpleImputer(strategy=&#x27;constant&#x27;)),\n",
       "                                                 (&#x27;Encode&#x27;,\n",
       "                                                  OrdinalEncoder(handle_unknown=&#x27;use_encoded_value&#x27;,\n",
       "                                                                 unknown_value=-1))]),\n",
       "                                 [&#x27;Ticket&#x27;, &#x27;Cabin&#x27;]),\n",
       "                                (&#x27;Categorical2&#x27;,\n",
       "                                 OneHotEncoder(handle_unknown=&#x27;ignore&#x27;),\n",
       "                                 [&#x27;Sex&#x27;, &#x27;Embarked&#x27;]),\n",
       "                                (&#x27;Numerical&#x27;,\n",
       "                                 Pipeline(steps=[(&#x27;Impute&#x27;, KNNImputer()),\n",
       "                                                 (&#x27;Scale&#x27;, StandardScaler())]),\n",
       "                                 [&#x27;Age&#x27;, &#x27;Fare&#x27;]),\n",
       "                                (&#x27;Integer&#x27;, &#x27;passthrough&#x27;,\n",
       "                                 [&#x27;Pclass&#x27;, &#x27;SibSp&#x27;, &#x27;Parch&#x27;]),\n",
       "                                (&#x27;Unique&#x27;, &#x27;drop&#x27;, [&#x27;PassengerId&#x27;, &#x27;Name&#x27;])])</pre></div></div></div><div class=\"sk-parallel\"><div class=\"sk-parallel-item\"><div class=\"sk-item\"><div class=\"sk-label-container\"><div class=\"sk-label sk-toggleable\"><input class=\"sk-toggleable__control sk-hidden--visually\" id=\"sk-estimator-id-17\" type=\"checkbox\" ><label for=\"sk-estimator-id-17\" class=\"sk-toggleable__label sk-toggleable__label-arrow\">Categorical1</label><div class=\"sk-toggleable__content\"><pre>[&#x27;Ticket&#x27;, &#x27;Cabin&#x27;]</pre></div></div></div><div class=\"sk-serial\"><div class=\"sk-item\"><div class=\"sk-serial\"><div class=\"sk-item\"><div class=\"sk-estimator sk-toggleable\"><input class=\"sk-toggleable__control sk-hidden--visually\" id=\"sk-estimator-id-18\" type=\"checkbox\" ><label for=\"sk-estimator-id-18\" class=\"sk-toggleable__label sk-toggleable__label-arrow\">SimpleImputer</label><div class=\"sk-toggleable__content\"><pre>SimpleImputer(strategy=&#x27;constant&#x27;)</pre></div></div></div><div class=\"sk-item\"><div class=\"sk-estimator sk-toggleable\"><input class=\"sk-toggleable__control sk-hidden--visually\" id=\"sk-estimator-id-19\" type=\"checkbox\" ><label for=\"sk-estimator-id-19\" class=\"sk-toggleable__label sk-toggleable__label-arrow\">OrdinalEncoder</label><div class=\"sk-toggleable__content\"><pre>OrdinalEncoder(handle_unknown=&#x27;use_encoded_value&#x27;, unknown_value=-1)</pre></div></div></div></div></div></div></div></div><div class=\"sk-parallel-item\"><div class=\"sk-item\"><div class=\"sk-label-container\"><div class=\"sk-label sk-toggleable\"><input class=\"sk-toggleable__control sk-hidden--visually\" id=\"sk-estimator-id-20\" type=\"checkbox\" ><label for=\"sk-estimator-id-20\" class=\"sk-toggleable__label sk-toggleable__label-arrow\">Categorical2</label><div class=\"sk-toggleable__content\"><pre>[&#x27;Sex&#x27;, &#x27;Embarked&#x27;]</pre></div></div></div><div class=\"sk-serial\"><div class=\"sk-item\"><div class=\"sk-estimator sk-toggleable\"><input class=\"sk-toggleable__control sk-hidden--visually\" id=\"sk-estimator-id-21\" type=\"checkbox\" ><label for=\"sk-estimator-id-21\" class=\"sk-toggleable__label sk-toggleable__label-arrow\">OneHotEncoder</label><div class=\"sk-toggleable__content\"><pre>OneHotEncoder(handle_unknown=&#x27;ignore&#x27;)</pre></div></div></div></div></div></div><div class=\"sk-parallel-item\"><div class=\"sk-item\"><div class=\"sk-label-container\"><div class=\"sk-label sk-toggleable\"><input class=\"sk-toggleable__control sk-hidden--visually\" id=\"sk-estimator-id-22\" type=\"checkbox\" ><label for=\"sk-estimator-id-22\" class=\"sk-toggleable__label sk-toggleable__label-arrow\">Numerical</label><div class=\"sk-toggleable__content\"><pre>[&#x27;Age&#x27;, &#x27;Fare&#x27;]</pre></div></div></div><div class=\"sk-serial\"><div class=\"sk-item\"><div class=\"sk-serial\"><div class=\"sk-item\"><div class=\"sk-estimator sk-toggleable\"><input class=\"sk-toggleable__control sk-hidden--visually\" id=\"sk-estimator-id-23\" type=\"checkbox\" ><label for=\"sk-estimator-id-23\" class=\"sk-toggleable__label sk-toggleable__label-arrow\">KNNImputer</label><div class=\"sk-toggleable__content\"><pre>KNNImputer()</pre></div></div></div><div class=\"sk-item\"><div class=\"sk-estimator sk-toggleable\"><input class=\"sk-toggleable__control sk-hidden--visually\" id=\"sk-estimator-id-24\" type=\"checkbox\" ><label for=\"sk-estimator-id-24\" class=\"sk-toggleable__label sk-toggleable__label-arrow\">StandardScaler</label><div class=\"sk-toggleable__content\"><pre>StandardScaler()</pre></div></div></div></div></div></div></div></div><div class=\"sk-parallel-item\"><div class=\"sk-item\"><div class=\"sk-label-container\"><div class=\"sk-label sk-toggleable\"><input class=\"sk-toggleable__control sk-hidden--visually\" id=\"sk-estimator-id-25\" type=\"checkbox\" ><label for=\"sk-estimator-id-25\" class=\"sk-toggleable__label sk-toggleable__label-arrow\">Integer</label><div class=\"sk-toggleable__content\"><pre>[&#x27;Pclass&#x27;, &#x27;SibSp&#x27;, &#x27;Parch&#x27;]</pre></div></div></div><div class=\"sk-serial\"><div class=\"sk-item\"><div class=\"sk-estimator sk-toggleable\"><input class=\"sk-toggleable__control sk-hidden--visually\" id=\"sk-estimator-id-26\" type=\"checkbox\" ><label for=\"sk-estimator-id-26\" class=\"sk-toggleable__label sk-toggleable__label-arrow\">passthrough</label><div class=\"sk-toggleable__content\"><pre>passthrough</pre></div></div></div></div></div></div><div class=\"sk-parallel-item\"><div class=\"sk-item\"><div class=\"sk-label-container\"><div class=\"sk-label sk-toggleable\"><input class=\"sk-toggleable__control sk-hidden--visually\" id=\"sk-estimator-id-27\" type=\"checkbox\" ><label for=\"sk-estimator-id-27\" class=\"sk-toggleable__label sk-toggleable__label-arrow\">Unique</label><div class=\"sk-toggleable__content\"><pre>[&#x27;PassengerId&#x27;, &#x27;Name&#x27;]</pre></div></div></div><div class=\"sk-serial\"><div class=\"sk-item\"><div class=\"sk-estimator sk-toggleable\"><input class=\"sk-toggleable__control sk-hidden--visually\" id=\"sk-estimator-id-28\" type=\"checkbox\" ><label for=\"sk-estimator-id-28\" class=\"sk-toggleable__label sk-toggleable__label-arrow\">drop</label><div class=\"sk-toggleable__content\"><pre>drop</pre></div></div></div></div></div></div></div></div><div class=\"sk-item\"><div class=\"sk-estimator sk-toggleable\"><input class=\"sk-toggleable__control sk-hidden--visually\" id=\"sk-estimator-id-29\" type=\"checkbox\" ><label for=\"sk-estimator-id-29\" class=\"sk-toggleable__label sk-toggleable__label-arrow\">RandomForestClassifier</label><div class=\"sk-toggleable__content\"><pre>RandomForestClassifier(random_state=7)</pre></div></div></div></div></div></div></div>"
      ],
      "text/plain": [
       "Pipeline(steps=[('Transformer',\n",
       "                 ColumnTransformer(transformers=[('Categorical1',\n",
       "                                                  Pipeline(steps=[('Impute',\n",
       "                                                                   SimpleImputer(strategy='constant')),\n",
       "                                                                  ('Encode',\n",
       "                                                                   OrdinalEncoder(handle_unknown='use_encoded_value',\n",
       "                                                                                  unknown_value=-1))]),\n",
       "                                                  ['Ticket', 'Cabin']),\n",
       "                                                 ('Categorical2',\n",
       "                                                  OneHotEncoder(handle_unknown='ignore'),\n",
       "                                                  ['Sex', 'Embarked']),\n",
       "                                                 ('Numerical',\n",
       "                                                  Pipeline(steps=[('Impute',\n",
       "                                                                   KNNImputer()),\n",
       "                                                                  ('Scale',\n",
       "                                                                   StandardScaler())]),\n",
       "                                                  ['Age', 'Fare']),\n",
       "                                                 ('Integer', 'passthrough',\n",
       "                                                  ['Pclass', 'SibSp', 'Parch']),\n",
       "                                                 ('Unique', 'drop',\n",
       "                                                  ['PassengerId', 'Name'])])),\n",
       "                ('ModelRF', RandomForestClassifier(random_state=7))])"
      ]
     },
     "execution_count": 12,
     "metadata": {},
     "output_type": "execute_result"
    }
   ],
   "source": [
    "trans = ColumnTransformer([\n",
    "    (name1, trans1, cols1),\n",
    "    (name2, trans2, cols2),\n",
    "    (name3, trans3, cols3),\n",
    "    (name4, trans4, cols4),\n",
    "    (name5, trans5, cols5),\n",
    "])\n",
    "\n",
    "modelRf = RandomForestClassifier(random_state=7)\n",
    "\n",
    "pipe = Pipeline([\n",
    "    ('Transformer', trans),\n",
    "    ('ModelRF', modelRf)\n",
    "])\n",
    "pipe"
   ]
  },
  {
   "cell_type": "markdown",
   "metadata": {},
   "source": [
    "Now we have prepare a pipeline, let's see how to use it with grid search. We have already known grid search is used to find the best hyperparameters of a model, but when coming with pipeline, it can also be used to search for the best configurations of preprocessing steps."
   ]
  },
  {
   "cell_type": "code",
   "execution_count": 13,
   "metadata": {
    "execution": {
     "iopub.execute_input": "2022-08-17T17:30:45.943730Z",
     "iopub.status.busy": "2022-08-17T17:30:45.942739Z",
     "iopub.status.idle": "2022-08-17T17:31:02.181006Z",
     "shell.execute_reply": "2022-08-17T17:31:02.180272Z",
     "shell.execute_reply.started": "2022-08-17T17:30:45.943691Z"
    }
   },
   "outputs": [
    {
     "name": "stdout",
     "output_type": "stream",
     "text": [
      "0:00:16.232052\n"
     ]
    }
   ],
   "source": [
    "start = dt.datetime.now()\n",
    "\n",
    "params = {\n",
    "    'Transformer__Numerical__Impute__n_neighbors': [3, 5, 7],\n",
    "    'ModelRF__n_estimators': [30, 50, 70],\n",
    "    'ModelRF__max_features': [0.4, 0.6],\n",
    "    'ModelRF__max_samples': [0.4, 0.6],\n",
    "}\n",
    "validator = GridSearchCV(pipe, params, cv=5, scoring='roc_auc')\n",
    "validator = validator.fit(xTrain, yTrain)\n",
    "\n",
    "print(dt.datetime.now() - start)"
   ]
  },
  {
   "cell_type": "code",
   "execution_count": 14,
   "metadata": {
    "execution": {
     "iopub.execute_input": "2022-08-17T17:31:02.182514Z",
     "iopub.status.busy": "2022-08-17T17:31:02.182174Z",
     "iopub.status.idle": "2022-08-17T17:31:02.187355Z",
     "shell.execute_reply": "2022-08-17T17:31:02.186408Z",
     "shell.execute_reply.started": "2022-08-17T17:31:02.182486Z"
    }
   },
   "outputs": [
    {
     "data": {
      "text/plain": [
       "{'ModelRF__max_features': 0.4,\n",
       " 'ModelRF__max_samples': 0.4,\n",
       " 'ModelRF__n_estimators': 70,\n",
       " 'Transformer__Numerical__Impute__n_neighbors': 5}"
      ]
     },
     "execution_count": 14,
     "metadata": {},
     "output_type": "execute_result"
    }
   ],
   "source": [
    "validator.best_params_"
   ]
  },
  {
   "cell_type": "code",
   "execution_count": 15,
   "metadata": {
    "execution": {
     "iopub.execute_input": "2022-08-17T17:31:02.189141Z",
     "iopub.status.busy": "2022-08-17T17:31:02.188720Z",
     "iopub.status.idle": "2022-08-17T17:31:02.217509Z",
     "shell.execute_reply": "2022-08-17T17:31:02.216284Z",
     "shell.execute_reply.started": "2022-08-17T17:31:02.189108Z"
    }
   },
   "outputs": [
    {
     "name": "stdout",
     "output_type": "stream",
     "text": [
      "AUC = 0.7995 [RandomForestClassifier]\n"
     ]
    }
   ],
   "source": [
    "yTestPred = validator.predict_proba(xTest)[:, 1]\n",
    "auc = AUC(yTest, yTestPred)\n",
    "modelName = validator.best_estimator_.steps[1][1].__class__.__name__\n",
    "print(f'AUC = {auc:.4f} [{modelName}]')"
   ]
  },
  {
   "cell_type": "markdown",
   "metadata": {},
   "source": [
    "### Model selection\n",
    "To adapt pipeline to select among multiple Machine Learning algorithms, we need some tricks."
   ]
  },
  {
   "cell_type": "code",
   "execution_count": 16,
   "metadata": {
    "execution": {
     "iopub.execute_input": "2022-08-17T17:31:02.219845Z",
     "iopub.status.busy": "2022-08-17T17:31:02.219022Z",
     "iopub.status.idle": "2022-08-17T17:31:02.225434Z",
     "shell.execute_reply": "2022-08-17T17:31:02.224309Z",
     "shell.execute_reply.started": "2022-08-17T17:31:02.219797Z"
    }
   },
   "outputs": [],
   "source": [
    "trans = ColumnTransformer([\n",
    "    (name1, trans1, cols1),\n",
    "    (name2, trans2, cols2),\n",
    "    (name3, trans3, cols3),\n",
    "    (name4, trans4, cols4),\n",
    "    (name5, trans5, cols5),\n",
    "])\n",
    "\n",
    "pipe = Pipeline([\n",
    "    ('Transformer', trans),\n",
    "    ('Model', RandomForestClassifier())\n",
    "])"
   ]
  },
  {
   "cell_type": "code",
   "execution_count": 17,
   "metadata": {
    "execution": {
     "iopub.execute_input": "2022-08-17T17:31:02.227428Z",
     "iopub.status.busy": "2022-08-17T17:31:02.226923Z",
     "iopub.status.idle": "2022-08-17T17:31:23.276771Z",
     "shell.execute_reply": "2022-08-17T17:31:23.275857Z",
     "shell.execute_reply.started": "2022-08-17T17:31:02.227389Z"
    }
   },
   "outputs": [
    {
     "name": "stdout",
     "output_type": "stream",
     "text": [
      "0:00:21.043318\n"
     ]
    }
   ],
   "source": [
    "start = dt.datetime.now()\n",
    "\n",
    "params = [\n",
    "    {\n",
    "        'Transformer__Numerical__Impute__n_neighbors': [5, 7],\n",
    "        'Model': [RandomForestClassifier()],\n",
    "        'Model__n_estimators': [80, 100],\n",
    "        'Model__max_samples': [0.3, 0.5],\n",
    "    },\n",
    "    {\n",
    "        'Transformer__Numerical__Impute__n_neighbors': [5, 7],\n",
    "        'Model': [HistGradientBoostingClassifier()],\n",
    "        'Model__max_iter': [80, 100],\n",
    "        'Model__learning_rate': [0.1, 0.05],\n",
    "    }\n",
    "]\n",
    "\n",
    "validator = GridSearchCV(pipe, params, cv=5, scoring='roc_auc')\n",
    "validator = validator.fit(xTrain, yTrain)\n",
    "\n",
    "print(dt.datetime.now() - start)"
   ]
  },
  {
   "cell_type": "code",
   "execution_count": 18,
   "metadata": {
    "execution": {
     "iopub.execute_input": "2022-08-17T17:31:23.279224Z",
     "iopub.status.busy": "2022-08-17T17:31:23.278659Z",
     "iopub.status.idle": "2022-08-17T17:31:23.285539Z",
     "shell.execute_reply": "2022-08-17T17:31:23.284297Z",
     "shell.execute_reply.started": "2022-08-17T17:31:23.279181Z"
    }
   },
   "outputs": [
    {
     "data": {
      "text/plain": [
       "{'Model': HistGradientBoostingClassifier(learning_rate=0.05),\n",
       " 'Model__learning_rate': 0.05,\n",
       " 'Model__max_iter': 100,\n",
       " 'Transformer__Numerical__Impute__n_neighbors': 5}"
      ]
     },
     "execution_count": 18,
     "metadata": {},
     "output_type": "execute_result"
    }
   ],
   "source": [
    "validator.best_params_"
   ]
  },
  {
   "cell_type": "code",
   "execution_count": 19,
   "metadata": {
    "execution": {
     "iopub.execute_input": "2022-08-17T17:31:23.287552Z",
     "iopub.status.busy": "2022-08-17T17:31:23.286971Z",
     "iopub.status.idle": "2022-08-17T17:31:23.338965Z",
     "shell.execute_reply": "2022-08-17T17:31:23.337997Z",
     "shell.execute_reply.started": "2022-08-17T17:31:23.287516Z"
    },
    "tags": []
   },
   "outputs": [
    {
     "name": "stdout",
     "output_type": "stream",
     "text": [
      "AUC = 0.8102 [HistGradientBoostingClassifier]\n"
     ]
    }
   ],
   "source": [
    "yTestPred = validator.predict_proba(xTest)[:, 1]\n",
    "auc = AUC(yTest, yTestPred)\n",
    "modelName = validator.best_estimator_.steps[1][1].__class__.__name__\n",
    "print(f'AUC = {auc:.4f} [{modelName}]')"
   ]
  },
  {
   "cell_type": "markdown",
   "metadata": {},
   "source": [
    "### Saving a model\n",
    "The built-in package [Pickle](https://docs.python.org/3/library/pickle.html) in python let us save the model into a file and load it again to make prediction. This helps us saving the time to train the model from the begin each time we use it. In case the model is too big, [Joblib](https://joblib.readthedocs.io/en/latest/) is a good alternative. The extension of pickle files can be anything, but is usually\n",
    "<code style='font-size:13px'>.p</code>\n",
    "<code style='font-size:13px'>.pkl</code>\n",
    "<code style='font-size:13px'>.pickle</code>\n",
    "as Pickle uses Pickle protocol to read the data inside the file and ignores the extension. "
   ]
  },
  {
   "cell_type": "code",
   "execution_count": 20,
   "metadata": {
    "execution": {
     "iopub.execute_input": "2022-08-17T17:31:23.340530Z",
     "iopub.status.busy": "2022-08-17T17:31:23.340197Z",
     "iopub.status.idle": "2022-08-17T17:31:23.385959Z",
     "shell.execute_reply": "2022-08-17T17:31:23.385142Z",
     "shell.execute_reply.started": "2022-08-17T17:31:23.340502Z"
    },
    "tags": []
   },
   "outputs": [
    {
     "name": "stdout",
     "output_type": "stream",
     "text": [
      "AUC = 0.8102 [HistGradientBoostingClassifier]\n"
     ]
    }
   ],
   "source": [
    "import pickle\n",
    "filename = 'output/pipeline_model.pkl'\n",
    "\n",
    "pickle.dump(validator, open(filename, 'wb'))\n",
    "\n",
    "modelLoaded = pickle.load(open(filename, 'rb'))\n",
    "\n",
    "yTestPred = modelLoaded.predict_proba(xTest)[:, 1]\n",
    "auc = AUC(yTest, yTestPred)\n",
    "modelName = modelLoaded.best_estimator_.steps[1][1].__class__.__name__\n",
    "print(f'AUC = {auc:.4f} [{modelName}]')"
   ]
  },
  {
   "cell_type": "code",
   "execution_count": 22,
   "metadata": {
    "execution": {
     "iopub.execute_input": "2022-08-17T17:31:44.608037Z",
     "iopub.status.busy": "2022-08-17T17:31:44.607448Z",
     "iopub.status.idle": "2022-08-17T17:31:44.692320Z",
     "shell.execute_reply": "2022-08-17T17:31:44.691473Z",
     "shell.execute_reply.started": "2022-08-17T17:31:44.607988Z"
    },
    "tags": []
   },
   "outputs": [
    {
     "name": "stdout",
     "output_type": "stream",
     "text": [
      "AUC = 0.8102 [HistGradientBoostingClassifier]\n"
     ]
    }
   ],
   "source": [
    "import joblib\n",
    "filename = 'output/pipeline_model.joblib'\n",
    "\n",
    "joblib.dump(validator, filename)\n",
    "\n",
    "modelLoaded = joblib.load(filename)\n",
    "\n",
    "yTestPred = modelLoaded.predict_proba(xTest)[:, 1]\n",
    "auc = AUC(yTest, yTestPred)\n",
    "modelName = modelLoaded.best_estimator_.steps[1][1].__class__.__name__\n",
    "print(f'AUC = {auc:.4f} [{modelName}]')"
   ]
  },
  {
   "cell_type": "markdown",
   "metadata": {},
   "source": [
    "---\n",
    "*&#9829; By Quang Hung x Thuy Linh &#9829;*"
   ]
  }
 ],
 "metadata": {
  "kernelspec": {
   "display_name": "Python 3",
   "language": "python",
   "name": "python3"
  },
  "language_info": {
   "codemirror_mode": {
    "name": "ipython",
    "version": 3
   },
   "file_extension": ".py",
   "mimetype": "text/x-python",
   "name": "python",
   "nbconvert_exporter": "python",
   "pygments_lexer": "ipython3",
   "version": "3.8.8"
  }
 },
 "nbformat": 4,
 "nbformat_minor": 4
}
