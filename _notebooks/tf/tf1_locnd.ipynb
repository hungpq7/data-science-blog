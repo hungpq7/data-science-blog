{
 "cells": [
  {
   "cell_type": "code",
   "execution_count": 1,
   "id": "fatty-edward",
   "metadata": {
    "colab": {
     "base_uri": "https://localhost:8080/"
    },
    "id": "fatty-edward",
    "outputId": "1f0f3de6-ef6f-470e-a615-4f03f82eacc6"
   },
   "outputs": [
    {
     "name": "stdout",
     "output_type": "stream",
     "text": [
      "Num GPUs Available:  1\n"
     ]
    }
   ],
   "source": [
    "import numpy as np\n",
    "import pandas as pd\n",
    "import tensorflow as tf\n",
    "import tensorflow_datasets as tfds\n",
    "print(\"Num GPUs Available: \", len(tf.config.list_physical_devices('GPU')))\n",
    "\n",
    "from functools import partial\n",
    "from albumentations import (\n",
    "    Compose, RandomBrightness, JpegCompression, HueSaturationValue, RandomContrast, HorizontalFlip,\n",
    "    Rotate\n",
    ")\n",
    "AUTOTUNE = tf.data.experimental.AUTOTUNE\n"
   ]
  },
  {
   "cell_type": "markdown",
   "id": "imposed-sailing",
   "metadata": {
    "id": "imposed-sailing"
   },
   "source": [
    "**LUYỆN TẬP THỰC HÀNH TENSORFLOW**\n",
    "\n",
    "[DAY 1] BASIC MODELING\n",
    "\n",
    "#### 1. Linear regression\n",
    "\n",
    "Cho 2 mảng xs (biến độc lập) và ys (biến phụ thuộc) như dưới, sử dụng tensorflow hãy xây dựng một mô hình đơn giản thể hiện mối quan hệ của 2 biến này\n",
    "\n"
   ]
  },
  {
   "cell_type": "code",
   "execution_count": null,
   "id": "active-intention",
   "metadata": {
    "id": "active-intention"
   },
   "outputs": [],
   "source": [
    "xs = np.array([-1.0, 0.0, 1.0, 2.0, 3.0, 4.0], dtype=float)\n",
    "ys = np.array([0.0, 1.0, 2.0, 3.0, 4.0, 5.0], dtype=float)\n"
   ]
  },
  {
   "cell_type": "code",
   "execution_count": null,
   "id": "dental-census",
   "metadata": {
    "colab": {
     "base_uri": "https://localhost:8080/"
    },
    "id": "dental-census",
    "outputId": "8ee5463e-dbf3-417d-f336-e71b48871b4a"
   },
   "outputs": [
    {
     "name": "stdout",
     "output_type": "stream",
     "text": [
      "Model: \"sequential\"\n",
      "_________________________________________________________________\n",
      " Layer (type)                Output Shape              Param #   \n",
      "=================================================================\n",
      " dense (Dense)               (None, 1)                 2         \n",
      "                                                                 \n",
      "=================================================================\n",
      "Total params: 2\n",
      "Trainable params: 2\n",
      "Non-trainable params: 0\n",
      "_________________________________________________________________\n"
     ]
    }
   ],
   "source": [
    "\n",
    "linear_model = tf.keras.Sequential([\n",
    "    tf.keras.layers.Dense(units=1)\n",
    "])\n",
    "linear_model.build([None,1])\n",
    "linear_model.summary()\n",
    "\n"
   ]
  },
  {
   "cell_type": "code",
   "execution_count": null,
   "id": "female-equilibrium",
   "metadata": {
    "colab": {
     "base_uri": "https://localhost:8080/",
     "height": 676
    },
    "id": "female-equilibrium",
    "outputId": "37491784-b20c-4553-cbd2-49e48e097157"
   },
   "outputs": [
    {
     "data": {
      "text/html": [
       "\n",
       "  <div id=\"df-6b972b28-1789-4d09-bad0-03c2d2965c3b\">\n",
       "    <div class=\"colab-df-container\">\n",
       "      <div>\n",
       "<style scoped>\n",
       "    .dataframe tbody tr th:only-of-type {\n",
       "        vertical-align: middle;\n",
       "    }\n",
       "\n",
       "    .dataframe tbody tr th {\n",
       "        vertical-align: top;\n",
       "    }\n",
       "\n",
       "    .dataframe thead th {\n",
       "        text-align: right;\n",
       "    }\n",
       "</style>\n",
       "<table border=\"1\" class=\"dataframe\">\n",
       "  <thead>\n",
       "    <tr style=\"text-align: right;\">\n",
       "      <th></th>\n",
       "      <th>loss</th>\n",
       "      <th>val_loss</th>\n",
       "    </tr>\n",
       "  </thead>\n",
       "  <tbody>\n",
       "    <tr>\n",
       "      <th>0</th>\n",
       "      <td>0.009040</td>\n",
       "      <td>0.219270</td>\n",
       "    </tr>\n",
       "    <tr>\n",
       "      <th>10</th>\n",
       "      <td>0.032696</td>\n",
       "      <td>0.074986</td>\n",
       "    </tr>\n",
       "    <tr>\n",
       "      <th>20</th>\n",
       "      <td>0.017456</td>\n",
       "      <td>0.037871</td>\n",
       "    </tr>\n",
       "    <tr>\n",
       "      <th>30</th>\n",
       "      <td>0.007399</td>\n",
       "      <td>0.027449</td>\n",
       "    </tr>\n",
       "    <tr>\n",
       "      <th>40</th>\n",
       "      <td>0.007352</td>\n",
       "      <td>0.037427</td>\n",
       "    </tr>\n",
       "    <tr>\n",
       "      <th>50</th>\n",
       "      <td>0.008352</td>\n",
       "      <td>0.002589</td>\n",
       "    </tr>\n",
       "    <tr>\n",
       "      <th>60</th>\n",
       "      <td>0.008772</td>\n",
       "      <td>0.002972</td>\n",
       "    </tr>\n",
       "    <tr>\n",
       "      <th>70</th>\n",
       "      <td>0.017396</td>\n",
       "      <td>0.021959</td>\n",
       "    </tr>\n",
       "    <tr>\n",
       "      <th>80</th>\n",
       "      <td>0.012793</td>\n",
       "      <td>0.007782</td>\n",
       "    </tr>\n",
       "    <tr>\n",
       "      <th>90</th>\n",
       "      <td>0.000069</td>\n",
       "      <td>0.037458</td>\n",
       "    </tr>\n",
       "    <tr>\n",
       "      <th>100</th>\n",
       "      <td>0.001691</td>\n",
       "      <td>0.026299</td>\n",
       "    </tr>\n",
       "    <tr>\n",
       "      <th>110</th>\n",
       "      <td>0.020030</td>\n",
       "      <td>0.038352</td>\n",
       "    </tr>\n",
       "    <tr>\n",
       "      <th>120</th>\n",
       "      <td>0.004343</td>\n",
       "      <td>0.012810</td>\n",
       "    </tr>\n",
       "    <tr>\n",
       "      <th>130</th>\n",
       "      <td>0.004725</td>\n",
       "      <td>0.023910</td>\n",
       "    </tr>\n",
       "    <tr>\n",
       "      <th>140</th>\n",
       "      <td>0.004549</td>\n",
       "      <td>0.004742</td>\n",
       "    </tr>\n",
       "    <tr>\n",
       "      <th>150</th>\n",
       "      <td>0.001928</td>\n",
       "      <td>0.007608</td>\n",
       "    </tr>\n",
       "    <tr>\n",
       "      <th>160</th>\n",
       "      <td>0.006127</td>\n",
       "      <td>0.004056</td>\n",
       "    </tr>\n",
       "    <tr>\n",
       "      <th>170</th>\n",
       "      <td>0.006098</td>\n",
       "      <td>0.019601</td>\n",
       "    </tr>\n",
       "    <tr>\n",
       "      <th>180</th>\n",
       "      <td>0.000660</td>\n",
       "      <td>0.000932</td>\n",
       "    </tr>\n",
       "    <tr>\n",
       "      <th>190</th>\n",
       "      <td>0.006408</td>\n",
       "      <td>0.019127</td>\n",
       "    </tr>\n",
       "  </tbody>\n",
       "</table>\n",
       "</div>\n",
       "      <button class=\"colab-df-convert\" onclick=\"convertToInteractive('df-6b972b28-1789-4d09-bad0-03c2d2965c3b')\"\n",
       "              title=\"Convert this dataframe to an interactive table.\"\n",
       "              style=\"display:none;\">\n",
       "        \n",
       "  <svg xmlns=\"http://www.w3.org/2000/svg\" height=\"24px\"viewBox=\"0 0 24 24\"\n",
       "       width=\"24px\">\n",
       "    <path d=\"M0 0h24v24H0V0z\" fill=\"none\"/>\n",
       "    <path d=\"M18.56 5.44l.94 2.06.94-2.06 2.06-.94-2.06-.94-.94-2.06-.94 2.06-2.06.94zm-11 1L8.5 8.5l.94-2.06 2.06-.94-2.06-.94L8.5 2.5l-.94 2.06-2.06.94zm10 10l.94 2.06.94-2.06 2.06-.94-2.06-.94-.94-2.06-.94 2.06-2.06.94z\"/><path d=\"M17.41 7.96l-1.37-1.37c-.4-.4-.92-.59-1.43-.59-.52 0-1.04.2-1.43.59L10.3 9.45l-7.72 7.72c-.78.78-.78 2.05 0 2.83L4 21.41c.39.39.9.59 1.41.59.51 0 1.02-.2 1.41-.59l7.78-7.78 2.81-2.81c.8-.78.8-2.07 0-2.86zM5.41 20L4 18.59l7.72-7.72 1.47 1.35L5.41 20z\"/>\n",
       "  </svg>\n",
       "      </button>\n",
       "      \n",
       "  <style>\n",
       "    .colab-df-container {\n",
       "      display:flex;\n",
       "      flex-wrap:wrap;\n",
       "      gap: 12px;\n",
       "    }\n",
       "\n",
       "    .colab-df-convert {\n",
       "      background-color: #E8F0FE;\n",
       "      border: none;\n",
       "      border-radius: 50%;\n",
       "      cursor: pointer;\n",
       "      display: none;\n",
       "      fill: #1967D2;\n",
       "      height: 32px;\n",
       "      padding: 0 0 0 0;\n",
       "      width: 32px;\n",
       "    }\n",
       "\n",
       "    .colab-df-convert:hover {\n",
       "      background-color: #E2EBFA;\n",
       "      box-shadow: 0px 1px 2px rgba(60, 64, 67, 0.3), 0px 1px 3px 1px rgba(60, 64, 67, 0.15);\n",
       "      fill: #174EA6;\n",
       "    }\n",
       "\n",
       "    [theme=dark] .colab-df-convert {\n",
       "      background-color: #3B4455;\n",
       "      fill: #D2E3FC;\n",
       "    }\n",
       "\n",
       "    [theme=dark] .colab-df-convert:hover {\n",
       "      background-color: #434B5C;\n",
       "      box-shadow: 0px 1px 3px 1px rgba(0, 0, 0, 0.15);\n",
       "      filter: drop-shadow(0px 1px 2px rgba(0, 0, 0, 0.3));\n",
       "      fill: #FFFFFF;\n",
       "    }\n",
       "  </style>\n",
       "\n",
       "      <script>\n",
       "        const buttonEl =\n",
       "          document.querySelector('#df-6b972b28-1789-4d09-bad0-03c2d2965c3b button.colab-df-convert');\n",
       "        buttonEl.style.display =\n",
       "          google.colab.kernel.accessAllowed ? 'block' : 'none';\n",
       "\n",
       "        async function convertToInteractive(key) {\n",
       "          const element = document.querySelector('#df-6b972b28-1789-4d09-bad0-03c2d2965c3b');\n",
       "          const dataTable =\n",
       "            await google.colab.kernel.invokeFunction('convertToInteractive',\n",
       "                                                     [key], {});\n",
       "          if (!dataTable) return;\n",
       "\n",
       "          const docLinkHtml = 'Like what you see? Visit the ' +\n",
       "            '<a target=\"_blank\" href=https://colab.research.google.com/notebooks/data_table.ipynb>data table notebook</a>'\n",
       "            + ' to learn more about interactive tables.';\n",
       "          element.innerHTML = '';\n",
       "          dataTable['output_type'] = 'display_data';\n",
       "          await google.colab.output.renderOutput(dataTable, element);\n",
       "          const docLink = document.createElement('div');\n",
       "          docLink.innerHTML = docLinkHtml;\n",
       "          element.appendChild(docLink);\n",
       "        }\n",
       "      </script>\n",
       "    </div>\n",
       "  </div>\n",
       "  "
      ],
      "text/plain": [
       "         loss  val_loss\n",
       "0    0.009040  0.219270\n",
       "10   0.032696  0.074986\n",
       "20   0.017456  0.037871\n",
       "30   0.007399  0.027449\n",
       "40   0.007352  0.037427\n",
       "50   0.008352  0.002589\n",
       "60   0.008772  0.002972\n",
       "70   0.017396  0.021959\n",
       "80   0.012793  0.007782\n",
       "90   0.000069  0.037458\n",
       "100  0.001691  0.026299\n",
       "110  0.020030  0.038352\n",
       "120  0.004343  0.012810\n",
       "130  0.004725  0.023910\n",
       "140  0.004549  0.004742\n",
       "150  0.001928  0.007608\n",
       "160  0.006127  0.004056\n",
       "170  0.006098  0.019601\n",
       "180  0.000660  0.000932\n",
       "190  0.006408  0.019127"
      ]
     },
     "execution_count": 6,
     "metadata": {},
     "output_type": "execute_result"
    }
   ],
   "source": [
    "linear_model.compile(\n",
    "    optimizer=tf.optimizers.Adam(learning_rate=0.05),\n",
    "    loss='mean_absolute_error')\n",
    "\n",
    "history = linear_model.fit(\n",
    "    xs,\n",
    "    ys,\n",
    "    epochs=200,\n",
    "    verbose=0,\n",
    "    # Calculate validation results on 20% of the training data.\n",
    "    validation_split = 0.2)\n",
    "pd.DataFrame(history.history).iloc[::10]"
   ]
  },
  {
   "cell_type": "code",
   "execution_count": null,
   "id": "unnecessary-collar",
   "metadata": {
    "colab": {
     "base_uri": "https://localhost:8080/"
    },
    "id": "unnecessary-collar",
    "outputId": "0779b64d-f29f-4839-eb79-b52e87c8858a"
   },
   "outputs": [
    {
     "name": "stdout",
     "output_type": "stream",
     "text": [
      "[[0.  ]\n",
      " [1.  ]\n",
      " [1.99]\n",
      " [2.99]\n",
      " [3.99]\n",
      " [4.98]]\n",
      "\n",
      " y = 1.0*x + 1.0\n"
     ]
    }
   ],
   "source": [
    "print(linear_model.predict(xs).round(2))\n",
    "\n",
    "print('\\n y = {}*x + {}'.format(str(round(linear_model.layers[0].weights[0].numpy()[0,0],2)),\n",
    "                               str(round(linear_model.layers[0].bias.numpy()[0],2)))\n",
    "     )\n"
   ]
  },
  {
   "cell_type": "markdown",
   "id": "coupled-female",
   "metadata": {
    "id": "coupled-female"
   },
   "source": [
    "#### 2. Fashion MNIST\n",
    "\n",
    "Xây dựng mô hình phân loại với bộ dữ liệu Fashion MNIST.<br>\n",
    "Chú ý: đầu vào ảnh 28x28, đầu ra: 10 nhãn phân loại\n"
   ]
  },
  {
   "cell_type": "code",
   "execution_count": 3,
   "id": "-jayf41V1Ra5",
   "metadata": {
    "id": "-jayf41V1Ra5"
   },
   "outputs": [],
   "source": [
    "fashion_mnist = tf.keras.datasets.fashion_mnist"
   ]
  },
  {
   "cell_type": "code",
   "execution_count": 4,
   "id": "damaged-elizabeth",
   "metadata": {
    "colab": {
     "base_uri": "https://localhost:8080/"
    },
    "id": "damaged-elizabeth",
    "outputId": "b60b7f43-31b8-4c67-a024-f452e082cdb3"
   },
   "outputs": [
    {
     "name": "stdout",
     "output_type": "stream",
     "text": [
      "Downloading data from https://storage.googleapis.com/tensorflow/tf-keras-datasets/train-labels-idx1-ubyte.gz\n",
      "32768/29515 [=================================] - 0s 0us/step\n",
      "40960/29515 [=========================================] - 0s 0us/step\n",
      "Downloading data from https://storage.googleapis.com/tensorflow/tf-keras-datasets/train-images-idx3-ubyte.gz\n",
      "26427392/26421880 [==============================] - 0s 0us/step\n",
      "26435584/26421880 [==============================] - 0s 0us/step\n",
      "Downloading data from https://storage.googleapis.com/tensorflow/tf-keras-datasets/t10k-labels-idx1-ubyte.gz\n",
      "16384/5148 [===============================================================================================] - 0s 0us/step\n",
      "Downloading data from https://storage.googleapis.com/tensorflow/tf-keras-datasets/t10k-images-idx3-ubyte.gz\n",
      "4423680/4422102 [==============================] - 0s 0us/step\n",
      "4431872/4422102 [==============================] - 0s 0us/step\n"
     ]
    },
    {
     "data": {
      "text/plain": [
       "((60000, 28, 28), (60000,), (10000, 28, 28), (10000,))"
      ]
     },
     "execution_count": 4,
     "metadata": {},
     "output_type": "execute_result"
    }
   ],
   "source": [
    "(train_images, train_labels), (test_images, test_labels) = fashion_mnist.load_data()\n",
    "train_images.shape, train_labels.shape, test_images.shape, test_labels.shape"
   ]
  },
  {
   "cell_type": "code",
   "execution_count": 46,
   "id": "aboriginal-proceeding",
   "metadata": {
    "id": "aboriginal-proceeding"
   },
   "outputs": [],
   "source": [
    "def fc_model():\n",
    "    model = tf.keras.Sequential([\n",
    "        tf.keras.layers.Flatten(input_shape=(28, 28)),\n",
    "        tf.keras.layers.Dense(128, activation='relu'),\n",
    "        tf.keras.layers.Dense(128, activation='relu'),\n",
    "        tf.keras.layers.Dense(10)\n",
    "    ])\n",
    "    model.compile(optimizer='adam',\n",
    "                loss=tf.keras.losses.SparseCategoricalCrossentropy(from_logits=True),\n",
    "                metrics=['accuracy'])\n",
    "    return model\n",
    "\n",
    "# define cnn model\n",
    "def cnn_model():\n",
    "\tmodel = tf.keras.Sequential([\n",
    "        tf.keras.layers.Conv2D(16, (3, 3), activation='relu', kernel_initializer='he_uniform', input_shape=(28, 28, 1)),\n",
    "        tf.keras.layers.Conv2D(32, (3, 3), activation='relu', kernel_initializer='he_uniform'),\n",
    "        tf.keras.layers.MaxPooling2D((2, 2)),\n",
    "        tf.keras.layers.Conv2D(64, (3, 3), activation='relu', kernel_initializer='he_uniform'),\n",
    "        tf.keras.layers.MaxPooling2D((2, 2)),\n",
    "        tf.keras.layers.Flatten(),\n",
    "        tf.keras.layers.Dense(500, activation='relu', kernel_initializer='he_uniform'),\n",
    "        tf.keras.layers.Dense(100, activation='relu', kernel_initializer='he_uniform'),\n",
    "        tf.keras.layers.Dense(10, activation='softmax')\n",
    "    ])\n",
    "\t# compile model\n",
    "\tmodel.compile(optimizer='adam',\n",
    "               loss=tf.keras.losses.SparseCategoricalCrossentropy(from_logits=True), \n",
    "               metrics=['accuracy'])\n",
    "\treturn model\n",
    "\n",
    "def resnet50_model():\n",
    "\tmodel = tf.keras.applications.resnet50.ResNet50(\n",
    "        include_top=False, weights='imagenet', input_tensor=None,\n",
    "        input_shape=(32,32,3), pooling=None, classes=10\n",
    "        )\n",
    "\t# compile model\n",
    "\tmodel.compile(optimizer='adam',\n",
    "               loss=tf.keras.losses.SparseCategoricalCrossentropy(from_logits=True), \n",
    "               metrics=['accuracy'])\n",
    "\treturn model\n"
   ]
  },
  {
   "cell_type": "markdown",
   "id": "OGDSOZdySPiL",
   "metadata": {
    "id": "OGDSOZdySPiL"
   },
   "source": [
    "### fc"
   ]
  },
  {
   "cell_type": "code",
   "execution_count": null,
   "id": "roman-diagnosis",
   "metadata": {
    "colab": {
     "base_uri": "https://localhost:8080/"
    },
    "id": "roman-diagnosis",
    "outputId": "85536b9b-1a6b-49e6-b096-6b47b936451d"
   },
   "outputs": [
    {
     "name": "stdout",
     "output_type": "stream",
     "text": [
      "Epoch 1/10\n",
      "1875/1875 [==============================] - 6s 3ms/step - loss: 3.3117 - accuracy: 0.6959\n",
      "Epoch 2/10\n",
      "1875/1875 [==============================] - 6s 3ms/step - loss: 0.6951 - accuracy: 0.7505\n",
      "Epoch 3/10\n",
      "1875/1875 [==============================] - 6s 3ms/step - loss: 0.5956 - accuracy: 0.7831\n",
      "Epoch 4/10\n",
      "1875/1875 [==============================] - 6s 3ms/step - loss: 0.5413 - accuracy: 0.8089\n",
      "Epoch 5/10\n",
      "1875/1875 [==============================] - 6s 3ms/step - loss: 0.5142 - accuracy: 0.8208\n",
      "Epoch 6/10\n",
      "1875/1875 [==============================] - 6s 3ms/step - loss: 0.4919 - accuracy: 0.8278\n",
      "Epoch 7/10\n",
      "1875/1875 [==============================] - 6s 3ms/step - loss: 0.4887 - accuracy: 0.8313\n",
      "Epoch 8/10\n",
      "1875/1875 [==============================] - 6s 3ms/step - loss: 0.4926 - accuracy: 0.8294\n",
      "Epoch 9/10\n",
      "1875/1875 [==============================] - 6s 3ms/step - loss: 0.4713 - accuracy: 0.8348\n",
      "Epoch 10/10\n",
      "1875/1875 [==============================] - 6s 3ms/step - loss: 0.4668 - accuracy: 0.8385\n"
     ]
    },
    {
     "data": {
      "text/plain": [
       "<keras.callbacks.History at 0x7f9f80be6d10>"
      ]
     },
     "execution_count": 18,
     "metadata": {},
     "output_type": "execute_result"
    }
   ],
   "source": [
    "# model = fc_model()\n",
    "# model.fit(train_images, train_labels, epochs=10)\n",
    "# test_loss, test_acc = model.evaluate(test_images,  test_labels, verbose=2)\n"
   ]
  },
  {
   "cell_type": "markdown",
   "id": "vkqdoQZzSK_Z",
   "metadata": {
    "id": "vkqdoQZzSK_Z"
   },
   "source": [
    "### resnet50"
   ]
  },
  {
   "cell_type": "code",
   "execution_count": 42,
   "id": "HXsPhk3p-fZZ",
   "metadata": {
    "id": "HXsPhk3p-fZZ"
   },
   "outputs": [],
   "source": [
    "# def convert_types(image, label):\n",
    "#     image = np.expand_dims(image, axis=3)\n",
    "#     image = tf.cast(image, tf.float32)\n",
    "#     image /= 255\n",
    "#     image = tf.image.resize_with_pad(\n",
    "#         image,\n",
    "#         32, 32, \n",
    "#         method=tf.image.ResizeMethod.BILINEAR,\n",
    "#         antialias=False\n",
    "#     )\n",
    "\n",
    "#     image = tf.image.grayscale_to_rgb(image)\n",
    "#     return image, label\n",
    "\n",
    "# n_train_images, _ = convert_types(train_images, train_labels)\n",
    "# n_test_images, _ = convert_types(test_images, test_labels)\n",
    "# n_train_images.shape, n_test_images.shape"
   ]
  },
  {
   "cell_type": "code",
   "execution_count": 43,
   "id": "IdqR7c7P_ACU",
   "metadata": {
    "id": "IdqR7c7P_ACU"
   },
   "outputs": [],
   "source": [
    "# model_v2 = resnet50_model()\n",
    "# model_v2.summary()"
   ]
  },
  {
   "cell_type": "code",
   "execution_count": 44,
   "id": "Qthx25Zi_qAw",
   "metadata": {
    "id": "Qthx25Zi_qAw"
   },
   "outputs": [],
   "source": [
    "# tf.config.experimental_run_functions_eagerly(True)\n",
    "\n",
    "# model_v2.fit(n_train_images, train_labels, epochs=10)\n",
    "# test_loss, test_acc = model_v2.evaluate(n_test_images,  test_labels, verbose=2)\n"
   ]
  },
  {
   "cell_type": "markdown",
   "id": "kZNMRR9SHmyN",
   "metadata": {
    "id": "kZNMRR9SHmyN"
   },
   "source": [
    "### cnn"
   ]
  },
  {
   "cell_type": "code",
   "execution_count": 47,
   "id": "-a784qgrIBew",
   "metadata": {
    "colab": {
     "base_uri": "https://localhost:8080/"
    },
    "id": "-a784qgrIBew",
    "outputId": "bf481247-b8db-4f12-c8be-89c2bf82ec63"
   },
   "outputs": [
    {
     "data": {
      "text/plain": [
       "(TensorShape([60000, 28, 28]), TensorShape([10000, 28, 28]))"
      ]
     },
     "execution_count": 47,
     "metadata": {},
     "output_type": "execute_result"
    }
   ],
   "source": [
    "def convert_types(image, label):\n",
    "    image = tf.cast(image, tf.float32)\n",
    "    image /= 255\n",
    "    return image, label\n",
    "\n",
    "n_train_images, _ = convert_types(train_images, train_labels)\n",
    "n_test_images, _ = convert_types(test_images, test_labels)\n",
    "del _\n",
    "n_train_images.shape, n_test_images.shape"
   ]
  },
  {
   "cell_type": "code",
   "execution_count": 48,
   "id": "la1yfY_M6bKx",
   "metadata": {
    "colab": {
     "base_uri": "https://localhost:8080/"
    },
    "id": "la1yfY_M6bKx",
    "outputId": "9dd01a66-af8f-490f-fa0f-42c745734500"
   },
   "outputs": [
    {
     "name": "stdout",
     "output_type": "stream",
     "text": [
      "Model: \"sequential_1\"\n",
      "_________________________________________________________________\n",
      " Layer (type)                Output Shape              Param #   \n",
      "=================================================================\n",
      " conv2d_4 (Conv2D)           (None, 26, 26, 16)        160       \n",
      "                                                                 \n",
      " conv2d_5 (Conv2D)           (None, 24, 24, 32)        4640      \n",
      "                                                                 \n",
      " max_pooling2d_2 (MaxPooling  (None, 12, 12, 32)       0         \n",
      " 2D)                                                             \n",
      "                                                                 \n",
      " conv2d_6 (Conv2D)           (None, 10, 10, 64)        18496     \n",
      "                                                                 \n",
      " max_pooling2d_3 (MaxPooling  (None, 5, 5, 64)         0         \n",
      " 2D)                                                             \n",
      "                                                                 \n",
      " flatten_1 (Flatten)         (None, 1600)              0         \n",
      "                                                                 \n",
      " dense_3 (Dense)             (None, 500)               800500    \n",
      "                                                                 \n",
      " dense_4 (Dense)             (None, 100)               50100     \n",
      "                                                                 \n",
      " dense_5 (Dense)             (None, 10)                1010      \n",
      "                                                                 \n",
      "=================================================================\n",
      "Total params: 874,906\n",
      "Trainable params: 874,906\n",
      "Non-trainable params: 0\n",
      "_________________________________________________________________\n"
     ]
    }
   ],
   "source": [
    "model_v3 = cnn_model()\n",
    "model_v3.summary()"
   ]
  },
  {
   "cell_type": "code",
   "execution_count": 49,
   "id": "xIRjDRoLAUeP",
   "metadata": {
    "colab": {
     "base_uri": "https://localhost:8080/"
    },
    "id": "xIRjDRoLAUeP",
    "outputId": "1f7f6f2d-7171-4667-aa16-8c0d5d86782c"
   },
   "outputs": [
    {
     "name": "stdout",
     "output_type": "stream",
     "text": [
      "Epoch 1/10\n"
     ]
    },
    {
     "name": "stderr",
     "output_type": "stream",
     "text": [
      "/usr/local/lib/python3.7/dist-packages/tensorflow/python/util/dispatch.py:1082: UserWarning: \"`sparse_categorical_crossentropy` received `from_logits=True`, but the `output` argument was produced by a sigmoid or softmax activation and thus does not represent logits. Was this intended?\"\n",
      "  return dispatch_target(*args, **kwargs)\n"
     ]
    },
    {
     "name": "stdout",
     "output_type": "stream",
     "text": [
      "1875/1875 [==============================] - 15s 8ms/step - loss: 2.5749 - accuracy: 0.7938\n",
      "Epoch 2/10\n",
      "1875/1875 [==============================] - 14s 8ms/step - loss: 0.3952 - accuracy: 0.8551\n",
      "Epoch 3/10\n",
      "1875/1875 [==============================] - 14s 8ms/step - loss: 0.3517 - accuracy: 0.8716\n",
      "Epoch 4/10\n",
      "1875/1875 [==============================] - 15s 8ms/step - loss: 0.3248 - accuracy: 0.8815\n",
      "Epoch 5/10\n",
      "1875/1875 [==============================] - 16s 9ms/step - loss: 0.2950 - accuracy: 0.8910\n",
      "Epoch 6/10\n",
      "1875/1875 [==============================] - 15s 8ms/step - loss: 0.2751 - accuracy: 0.9000\n",
      "Epoch 7/10\n",
      "1875/1875 [==============================] - 14s 8ms/step - loss: 0.2487 - accuracy: 0.9078\n",
      "Epoch 8/10\n",
      "1875/1875 [==============================] - 14s 8ms/step - loss: 0.2270 - accuracy: 0.9150\n",
      "Epoch 9/10\n",
      "1875/1875 [==============================] - 14s 7ms/step - loss: 0.2106 - accuracy: 0.9225\n",
      "Epoch 10/10\n",
      "1875/1875 [==============================] - 14s 8ms/step - loss: 0.1918 - accuracy: 0.9300\n",
      "313/313 - 1s - loss: 0.3468 - accuracy: 0.8898 - 1s/epoch - 4ms/step\n",
      "Epoch 1/10\n",
      "1875/1875 [==============================] - 14s 7ms/step - loss: 0.1712 - accuracy: 0.9371\n",
      "Epoch 2/10\n",
      "1875/1875 [==============================] - 14s 7ms/step - loss: 0.1527 - accuracy: 0.9444\n",
      "Epoch 3/10\n",
      "1875/1875 [==============================] - 14s 7ms/step - loss: 0.1411 - accuracy: 0.9495\n",
      "Epoch 4/10\n",
      "1875/1875 [==============================] - 14s 7ms/step - loss: 0.1386 - accuracy: 0.9518\n",
      "Epoch 5/10\n",
      "1875/1875 [==============================] - 14s 7ms/step - loss: 0.1248 - accuracy: 0.9558\n",
      "Epoch 6/10\n",
      "1875/1875 [==============================] - 14s 7ms/step - loss: 0.1057 - accuracy: 0.9620\n",
      "Epoch 7/10\n",
      "1875/1875 [==============================] - 14s 7ms/step - loss: 0.1043 - accuracy: 0.9634\n",
      "Epoch 8/10\n",
      "1875/1875 [==============================] - 14s 7ms/step - loss: 0.0973 - accuracy: 0.9675\n",
      "Epoch 9/10\n",
      "1875/1875 [==============================] - 14s 7ms/step - loss: 0.1071 - accuracy: 0.9646\n",
      "Epoch 10/10\n",
      "1875/1875 [==============================] - 14s 7ms/step - loss: 0.0895 - accuracy: 0.9707\n",
      "313/313 - 1s - loss: 0.5426 - accuracy: 0.9030 - 1s/epoch - 3ms/step\n"
     ]
    }
   ],
   "source": [
    "model_v3.fit(train_images, train_labels, epochs=10)\n",
    "test_loss, test_acc = model_v3.evaluate(test_images,  test_labels, verbose=2)\n",
    "\n",
    "model_v3.fit(train_images, train_labels, epochs=10)\n",
    "test_loss, test_acc = model_v3.evaluate(test_images,  test_labels, verbose=2)\n"
   ]
  },
  {
   "cell_type": "code",
   "execution_count": 50,
   "id": "clzj-Lro7H9O",
   "metadata": {
    "colab": {
     "base_uri": "https://localhost:8080/"
    },
    "id": "clzj-Lro7H9O",
    "outputId": "41bef494-6e52-4e27-8330-17a856d15f36"
   },
   "outputs": [
    {
     "name": "stdout",
     "output_type": "stream",
     "text": [
      "Epoch 1/10\n",
      "1875/1875 [==============================] - 14s 7ms/step - loss: 0.0914 - accuracy: 0.9702\n",
      "Epoch 2/10\n",
      "1875/1875 [==============================] - 14s 7ms/step - loss: 0.0745 - accuracy: 0.9754\n",
      "Epoch 3/10\n",
      "1875/1875 [==============================] - 14s 7ms/step - loss: 0.0862 - accuracy: 0.9735\n",
      "Epoch 4/10\n",
      "1875/1875 [==============================] - 14s 7ms/step - loss: 0.0927 - accuracy: 0.9737\n",
      "Epoch 5/10\n",
      "1875/1875 [==============================] - 14s 7ms/step - loss: 0.0836 - accuracy: 0.9740\n",
      "Epoch 6/10\n",
      "1875/1875 [==============================] - 14s 7ms/step - loss: 0.0701 - accuracy: 0.9787\n",
      "Epoch 7/10\n",
      "1875/1875 [==============================] - 14s 7ms/step - loss: 0.0803 - accuracy: 0.9772\n",
      "Epoch 8/10\n",
      "1875/1875 [==============================] - 14s 7ms/step - loss: 0.0785 - accuracy: 0.9776\n",
      "Epoch 9/10\n",
      "1875/1875 [==============================] - 14s 7ms/step - loss: 0.0665 - accuracy: 0.9814\n",
      "Epoch 10/10\n",
      "1875/1875 [==============================] - 14s 7ms/step - loss: 0.0800 - accuracy: 0.9785\n",
      "313/313 - 1s - loss: 0.6687 - accuracy: 0.9010 - 1s/epoch - 3ms/step\n",
      "Epoch 1/5\n",
      "1875/1875 [==============================] - 14s 7ms/step - loss: 0.0610 - accuracy: 0.9830\n",
      "Epoch 2/5\n",
      "1875/1875 [==============================] - 14s 7ms/step - loss: 0.0661 - accuracy: 0.9819\n",
      "Epoch 3/5\n",
      "1875/1875 [==============================] - 14s 8ms/step - loss: 0.0532 - accuracy: 0.9848\n",
      "Epoch 4/5\n",
      "1875/1875 [==============================] - 14s 8ms/step - loss: 0.0752 - accuracy: 0.9802\n",
      "Epoch 5/5\n",
      "1875/1875 [==============================] - 14s 7ms/step - loss: 0.0579 - accuracy: 0.9837\n",
      "313/313 - 1s - loss: 0.6837 - accuracy: 0.9047 - 1s/epoch - 3ms/step\n",
      "Epoch 1/5\n",
      "1875/1875 [==============================] - 14s 7ms/step - loss: 0.0564 - accuracy: 0.9845\n",
      "Epoch 2/5\n",
      "1875/1875 [==============================] - 14s 7ms/step - loss: 0.0621 - accuracy: 0.9836\n",
      "Epoch 3/5\n",
      "1875/1875 [==============================] - 14s 7ms/step - loss: 0.0606 - accuracy: 0.9833\n",
      "Epoch 4/5\n",
      "1875/1875 [==============================] - 14s 7ms/step - loss: 0.0607 - accuracy: 0.9836\n",
      "Epoch 5/5\n",
      "1875/1875 [==============================] - 14s 7ms/step - loss: 0.0564 - accuracy: 0.9857\n",
      "313/313 - 1s - loss: 0.8811 - accuracy: 0.9032 - 1s/epoch - 3ms/step\n",
      "Epoch 1/5\n",
      "1875/1875 [==============================] - 14s 7ms/step - loss: 0.0621 - accuracy: 0.9843\n",
      "Epoch 2/5\n",
      "1875/1875 [==============================] - 14s 7ms/step - loss: 0.0670 - accuracy: 0.9835\n",
      "Epoch 3/5\n",
      "1875/1875 [==============================] - 14s 7ms/step - loss: 0.0471 - accuracy: 0.9879\n",
      "Epoch 4/5\n",
      "1875/1875 [==============================] - 14s 7ms/step - loss: 0.0746 - accuracy: 0.9816\n",
      "Epoch 5/5\n",
      "1875/1875 [==============================] - 14s 7ms/step - loss: 0.0612 - accuracy: 0.9870\n",
      "313/313 - 1s - loss: 1.0541 - accuracy: 0.9039 - 1s/epoch - 4ms/step\n"
     ]
    }
   ],
   "source": [
    "model_v3.fit(train_images, train_labels, epochs=10)\n",
    "test_loss, test_acc = model_v3.evaluate(test_images,  test_labels, verbose=2)\n",
    "\n",
    "model_v3.fit(train_images, train_labels, epochs=5)\n",
    "test_loss, test_acc = model_v3.evaluate(test_images,  test_labels, verbose=2)\n",
    "\n",
    "model_v3.fit(train_images, train_labels, epochs=5)\n",
    "test_loss, test_acc = model_v3.evaluate(test_images,  test_labels, verbose=2)\n",
    "\n",
    "model_v3.fit(train_images, train_labels, epochs=5)\n",
    "test_loss, test_acc = model_v3.evaluate(test_images,  test_labels, verbose=2)\n"
   ]
  },
  {
   "cell_type": "code",
   "execution_count": null,
   "id": "R8MX_a3vonMQ",
   "metadata": {
    "id": "R8MX_a3vonMQ"
   },
   "outputs": [],
   "source": []
  }
 ],
 "metadata": {
  "accelerator": "GPU",
  "colab": {
   "collapsed_sections": [],
   "name": "Untitled.ipynb",
   "provenance": []
  },
  "kernelspec": {
   "display_name": "Python 3",
   "language": "python",
   "name": "python3"
  },
  "language_info": {
   "codemirror_mode": {
    "name": "ipython",
    "version": 3
   },
   "file_extension": ".py",
   "mimetype": "text/x-python",
   "name": "python",
   "nbconvert_exporter": "python",
   "pygments_lexer": "ipython3",
   "version": "3.8.8"
  }
 },
 "nbformat": 4,
 "nbformat_minor": 5
}
