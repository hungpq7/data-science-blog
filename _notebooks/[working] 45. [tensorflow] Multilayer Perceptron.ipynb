{
 "cells": [
  {
   "cell_type": "markdown",
   "metadata": {},
   "source": [
    "- https://www.tensorflow.org/api_docs/python/tf/keras/layers\n",
    "- https://www.tensorflow.org/api_docs/python/tf/keras/Model\n",
    "- https://www.tensorflow.org/api_docs/python/tf/keras/optimizers\n",
    "- https://www.tensorflow.org/api_docs/python/tf/keras/metrics"
   ]
  },
  {
   "cell_type": "markdown",
   "metadata": {},
   "source": [
    "### Linear Regression"
   ]
  },
  {
   "cell_type": "code",
   "execution_count": 1,
   "metadata": {
    "execution": {
     "iopub.execute_input": "2022-03-06T17:16:10.465735Z",
     "iopub.status.busy": "2022-03-06T17:16:10.465211Z",
     "iopub.status.idle": "2022-03-06T17:16:31.614463Z",
     "shell.execute_reply": "2022-03-06T17:16:31.613899Z",
     "shell.execute_reply.started": "2022-03-06T17:16:10.465638Z"
    },
    "tags": []
   },
   "outputs": [],
   "source": [
    "import numpy as np\n",
    "import pandas as pd\n",
    "\n",
    "import tensorflow as tf\n",
    "from tensorflow import keras\n",
    "from tensorflow.keras import layers"
   ]
  },
  {
   "cell_type": "code",
   "execution_count": 2,
   "metadata": {
    "execution": {
     "iopub.execute_input": "2022-03-06T08:19:21.207404Z",
     "iopub.status.busy": "2022-03-06T08:19:21.207195Z",
     "iopub.status.idle": "2022-03-06T08:19:21.211669Z",
     "shell.execute_reply": "2022-03-06T08:19:21.210779Z",
     "shell.execute_reply.started": "2022-03-06T08:19:21.207384Z"
    },
    "id": "1RwrL2LCk6d1",
    "tags": []
   },
   "outputs": [],
   "source": [
    "x = np.array([-1.0, 0.0, 1.0, 2.0, 3.0, 4.0], dtype=float)\n",
    "y = np.array([0.0, 1.0, 2.0, 3.0, 4.0, 5.0], dtype=float)"
   ]
  },
  {
   "cell_type": "code",
   "execution_count": 14,
   "metadata": {
    "execution": {
     "iopub.execute_input": "2022-03-06T08:26:10.244712Z",
     "iopub.status.busy": "2022-03-06T08:26:10.244453Z",
     "iopub.status.idle": "2022-03-06T08:26:10.255065Z",
     "shell.execute_reply": "2022-03-06T08:26:10.254017Z",
     "shell.execute_reply.started": "2022-03-06T08:26:10.244689Z"
    },
    "tags": []
   },
   "outputs": [
    {
     "name": "stdout",
     "output_type": "stream",
     "text": [
      "Model: \"sequential_7\"\n",
      "_________________________________________________________________\n",
      " Layer (type)                Output Shape              Param #   \n",
      "=================================================================\n",
      " dense_7 (Dense)             (None, 1)                 2         \n",
      "                                                                 \n",
      "=================================================================\n",
      "Total params: 2\n",
      "Trainable params: 2\n",
      "Non-trainable params: 0\n",
      "_________________________________________________________________\n"
     ]
    }
   ],
   "source": [
    "model1.summary()"
   ]
  },
  {
   "cell_type": "code",
   "execution_count": 42,
   "metadata": {
    "execution": {
     "iopub.execute_input": "2022-03-06T08:57:23.726387Z",
     "iopub.status.busy": "2022-03-06T08:57:23.725977Z",
     "iopub.status.idle": "2022-03-06T08:57:26.001395Z",
     "shell.execute_reply": "2022-03-06T08:57:26.000600Z",
     "shell.execute_reply.started": "2022-03-06T08:57:23.726349Z"
    },
    "tags": []
   },
   "outputs": [
    {
     "data": {
      "text/plain": [
       "array([[-0.03436869],\n",
       "       [ 0.9754254 ],\n",
       "       [ 1.9852195 ],\n",
       "       [ 2.9950137 ],\n",
       "       [ 4.0048075 ],\n",
       "       [ 5.0146017 ]], dtype=float32)"
      ]
     },
     "execution_count": 42,
     "metadata": {},
     "output_type": "execute_result"
    }
   ],
   "source": [
    "normalizer = layers.Normalization(input_shape=(1,), axis=None)\n",
    "normalizer.adapt(xs)\n",
    "\n",
    "xs = xs.reshape(-1,1)\n",
    "ys = ys.reshape(-1,1)\n",
    "model1 = keras.Sequential()\n",
    "# model1.add(normalizer)\n",
    "model1.add(layers.Dense(units=1))\n",
    "\n",
    "model1.compile(tf.optimizers.Adam(learning_rate=0.1), loss='mean_absolute_error')\n",
    "\n",
    "model1.fit(xs, ys, validation_split=0.2, epochs=100, verbose=0)\n",
    "model1.predict(xs)"
   ]
  }
 ],
 "metadata": {
  "kernelspec": {
   "display_name": "Python 3",
   "language": "python",
   "name": "python3"
  },
  "language_info": {
   "codemirror_mode": {
    "name": "ipython",
    "version": 3
   },
   "file_extension": ".py",
   "mimetype": "text/x-python",
   "name": "python",
   "nbconvert_exporter": "python",
   "pygments_lexer": "ipython3",
   "version": "3.8.8"
  }
 },
 "nbformat": 4,
 "nbformat_minor": 4
}
