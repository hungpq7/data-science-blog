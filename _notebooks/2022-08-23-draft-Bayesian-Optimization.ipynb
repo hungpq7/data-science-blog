{
 "cells": [
  {
   "cell_type": "code",
   "execution_count": null,
   "id": "2ba5b13a-8d4b-4e46-9551-3e643813ad65",
   "metadata": {},
   "outputs": [],
   "source": []
  },
  {
   "cell_type": "markdown",
   "id": "87c62f6f-5595-4baa-bb84-b607062dbeea",
   "metadata": {},
   "source": [
    "The general situation where Bayes' theorem is revelent is when:\n",
    "- you have a hypothesis (denoted $H$)\n",
    "- you have observed an evidence (denoted $E$)\n",
    "- you want to know the probability that the hypothesis holds given that evidence is true $P(H|E)$\n",
    "\n",
    "$$P(H|E)=\\frac{P(H)P(E|H)}{P(E)}=\\frac{P(H)P(E|H)}{P(H)P(E|H)+P(\\lnot H)P(E|\\lnot H)}$$"
   ]
  },
  {
   "cell_type": "code",
   "execution_count": 12,
   "id": "47e6b7e8-8dc3-4b85-b4ec-9bb46cf782c3",
   "metadata": {},
   "outputs": [],
   "source": [
    "import numpy as np\n",
    "import pandas as pd\n",
    "\n",
    "from sklearn.preprocessing import LabelEncoder\n",
    "from sklearn.metrics import accuracy_score\n",
    "from sklearn.model_selection import train_test_split\n",
    "\n",
    "from xgboost import XGBClassifier\n",
    "from lightgbm import LGBMClassifier\n",
    "from sklearn.ensemble import RandomForestClassifier\n",
    "from sklearn.svm import SVC\n",
    "\n",
    "from hyperopt import hp, fmin, rand, tpe, Trials, STATUS_FAIL, STATUS_OK\n",
    "from hyperopt.pyll import scope"
   ]
  },
  {
   "cell_type": "code",
   "execution_count": 42,
   "id": "b6c2531c-b69b-45d3-8756-a91406bc259d",
   "metadata": {},
   "outputs": [],
   "source": [
    "df_train = pd.read_csv(r'data\\titanic_train.csv')\n",
    "df_test = pd.read_csv(r'data\\titanic_test.csv')"
   ]
  },
  {
   "cell_type": "code",
   "execution_count": 13,
   "id": "e8e80fd5-0588-4ae3-954f-21a088a09bea",
   "metadata": {},
   "outputs": [
    {
     "data": {
      "text/html": [
       "<div>\n",
       "<style scoped>\n",
       "    .dataframe tbody tr th:only-of-type {\n",
       "        vertical-align: middle;\n",
       "    }\n",
       "\n",
       "    .dataframe tbody tr th {\n",
       "        vertical-align: top;\n",
       "    }\n",
       "\n",
       "    .dataframe thead th {\n",
       "        text-align: right;\n",
       "    }\n",
       "</style>\n",
       "<table border=\"1\" class=\"dataframe\">\n",
       "  <thead>\n",
       "    <tr style=\"text-align: right;\">\n",
       "      <th></th>\n",
       "      <th>PassengerId</th>\n",
       "      <th>Survived</th>\n",
       "      <th>Pclass</th>\n",
       "      <th>Name</th>\n",
       "      <th>Sex</th>\n",
       "      <th>Age</th>\n",
       "      <th>SibSp</th>\n",
       "      <th>Parch</th>\n",
       "      <th>Ticket</th>\n",
       "      <th>Fare</th>\n",
       "      <th>Cabin</th>\n",
       "      <th>Embarked</th>\n",
       "    </tr>\n",
       "  </thead>\n",
       "  <tbody>\n",
       "    <tr>\n",
       "      <th>0</th>\n",
       "      <td>1</td>\n",
       "      <td>0</td>\n",
       "      <td>3</td>\n",
       "      <td>Braund, Mr. Owen Harris</td>\n",
       "      <td>male</td>\n",
       "      <td>22.0</td>\n",
       "      <td>1</td>\n",
       "      <td>0</td>\n",
       "      <td>A/5 21171</td>\n",
       "      <td>7.2500</td>\n",
       "      <td>NaN</td>\n",
       "      <td>S</td>\n",
       "    </tr>\n",
       "    <tr>\n",
       "      <th>1</th>\n",
       "      <td>2</td>\n",
       "      <td>1</td>\n",
       "      <td>1</td>\n",
       "      <td>Cumings, Mrs. John Bradley (Florence Briggs Th...</td>\n",
       "      <td>female</td>\n",
       "      <td>38.0</td>\n",
       "      <td>1</td>\n",
       "      <td>0</td>\n",
       "      <td>PC 17599</td>\n",
       "      <td>71.2833</td>\n",
       "      <td>C85</td>\n",
       "      <td>C</td>\n",
       "    </tr>\n",
       "    <tr>\n",
       "      <th>2</th>\n",
       "      <td>3</td>\n",
       "      <td>1</td>\n",
       "      <td>3</td>\n",
       "      <td>Heikkinen, Miss. Laina</td>\n",
       "      <td>female</td>\n",
       "      <td>26.0</td>\n",
       "      <td>0</td>\n",
       "      <td>0</td>\n",
       "      <td>STON/O2. 3101282</td>\n",
       "      <td>7.9250</td>\n",
       "      <td>NaN</td>\n",
       "      <td>S</td>\n",
       "    </tr>\n",
       "    <tr>\n",
       "      <th>3</th>\n",
       "      <td>4</td>\n",
       "      <td>1</td>\n",
       "      <td>1</td>\n",
       "      <td>Futrelle, Mrs. Jacques Heath (Lily May Peel)</td>\n",
       "      <td>female</td>\n",
       "      <td>35.0</td>\n",
       "      <td>1</td>\n",
       "      <td>0</td>\n",
       "      <td>113803</td>\n",
       "      <td>53.1000</td>\n",
       "      <td>C123</td>\n",
       "      <td>S</td>\n",
       "    </tr>\n",
       "    <tr>\n",
       "      <th>4</th>\n",
       "      <td>5</td>\n",
       "      <td>0</td>\n",
       "      <td>3</td>\n",
       "      <td>Allen, Mr. William Henry</td>\n",
       "      <td>male</td>\n",
       "      <td>35.0</td>\n",
       "      <td>0</td>\n",
       "      <td>0</td>\n",
       "      <td>373450</td>\n",
       "      <td>8.0500</td>\n",
       "      <td>NaN</td>\n",
       "      <td>S</td>\n",
       "    </tr>\n",
       "  </tbody>\n",
       "</table>\n",
       "</div>"
      ],
      "text/plain": [
       "   PassengerId  Survived  Pclass  \\\n",
       "0            1         0       3   \n",
       "1            2         1       1   \n",
       "2            3         1       3   \n",
       "3            4         1       1   \n",
       "4            5         0       3   \n",
       "\n",
       "                                                Name     Sex   Age  SibSp  \\\n",
       "0                            Braund, Mr. Owen Harris    male  22.0      1   \n",
       "1  Cumings, Mrs. John Bradley (Florence Briggs Th...  female  38.0      1   \n",
       "2                             Heikkinen, Miss. Laina  female  26.0      0   \n",
       "3       Futrelle, Mrs. Jacques Heath (Lily May Peel)  female  35.0      1   \n",
       "4                           Allen, Mr. William Henry    male  35.0      0   \n",
       "\n",
       "   Parch            Ticket     Fare Cabin Embarked  \n",
       "0      0         A/5 21171   7.2500   NaN        S  \n",
       "1      0          PC 17599  71.2833   C85        C  \n",
       "2      0  STON/O2. 3101282   7.9250   NaN        S  \n",
       "3      0            113803  53.1000  C123        S  \n",
       "4      0            373450   8.0500   NaN        S  "
      ]
     },
     "execution_count": 13,
     "metadata": {},
     "output_type": "execute_result"
    }
   ],
   "source": [
    "df_train.head()"
   ]
  },
  {
   "cell_type": "code",
   "execution_count": 44,
   "id": "57d70b01-5688-4bb8-94bf-67e6cb118f73",
   "metadata": {},
   "outputs": [],
   "source": [
    "encoder = LabelEncoder()\n",
    "df_train = df_train.assign(Embarked=encoder.fit_transform(df_train.Embarked.fillna('-1')))\n",
    "df_train = df_train.assign(Sex=encoder.fit_transform(df_train.Sex.fillna('-1')))\n",
    "df_train = df_train.assign(Age=df_train.Age.mean())"
   ]
  },
  {
   "cell_type": "code",
   "execution_count": 47,
   "id": "2705a6a5-f157-45fc-b2bd-2e7f1099ee88",
   "metadata": {},
   "outputs": [],
   "source": [
    "X = df_train[['Sex', 'Age', 'SibSp', 'Parch', 'Fare', 'Embarked']].values\n",
    "y = df_train[['Survived']].values.ravel()\n",
    "\n",
    "X_train, X_test, y_train, y_test = train_test_split(X, y, random_state=7, test_size=0.2)"
   ]
  },
  {
   "cell_type": "code",
   "execution_count": 4,
   "id": "a5f7de43-5120-4838-9f0c-96f8b287b4ae",
   "metadata": {},
   "outputs": [],
   "source": [
    "scope.define(XGBClassifier)\n",
    "scope.define(LGBMClassifier)\n",
    "scope.define(RandomForestClassifier)\n",
    "scope.define(SVC)"
   ]
  },
  {
   "cell_type": "code",
   "execution_count": 58,
   "id": "d7783aa7-9dbc-4716-ab73-04c028bc4d26",
   "metadata": {},
   "outputs": [],
   "source": [
    "search_space = hp.choice('classifier_type', [\n",
    "    scope.RandomForestClassifier(\n",
    "        n_estimators=hp.choice('rf_n_estimators', [8, 12, 16, 20, 24, 28, 32]),\n",
    "        criterion=hp.choice('rf_criterion', ['entropy', 'gini']),\n",
    "        max_features=hp.uniform('rf_max_features', 0.3, 0.8),\n",
    "        min_samples_leaf=hp.choice('rf_min_samples_leaf', range(1, 10))),\n",
    "    scope.SVC(\n",
    "        C=hp.loguniform('svm_C', -4, 1),\n",
    "        gamma=hp.loguniform('svm_gamma', -4, 1)),\n",
    "    scope.LGBMClassifier(\n",
    "        learning_rate=hp.uniform('lgbm_learning_rate', 0.05, 0.5),\n",
    "        n_estimators=hp.choice('lgbm_n_estimators', [8, 12, 16, 20, 24, 28, 32]),\n",
    "        num_leaves=hp.choice('lgbm_num_leaves ', [4, 8, 16])),\n",
    "#     scope.XGBClassifier(\n",
    "#         use_label_encoder=False,\n",
    "#         n_estimators=hp.choice('xgb_n_estimators', [8, 12, 16, 20, 24, 28, 32]),\n",
    "#         learning_rate=hp.uniform('xgb_learning_rate', 0.1, 0.5))\n",
    "])"
   ]
  },
  {
   "cell_type": "code",
   "execution_count": 52,
   "id": "9d9259d7-4d45-4c7d-bdef-89a079c62491",
   "metadata": {},
   "outputs": [],
   "source": [
    "trials = Trials()\n",
    "\n",
    "def objective_function(estimator):\n",
    "    estimator.fit(X_train, y_train)\n",
    "    y_hat = estimator.predict(X_test)\n",
    "    return -1 * accuracy_score(y_test, y_hat)"
   ]
  },
  {
   "cell_type": "code",
   "execution_count": 59,
   "id": "c2e34f53-f8bb-4e5c-9b98-5d7eb9627637",
   "metadata": {},
   "outputs": [
    {
     "name": "stdout",
     "output_type": "stream",
     "text": [
      "100%|███████████████████████████████████████████████| 50/50 [00:03<00:00, 15.74trial/s, best loss: -0.7932960893854749]\n",
      "{'classifier_type': 0, 'rf_criterion': 1, 'rf_max_features': 0.5572811772748394, 'rf_min_samples_leaf': 0, 'rf_n_estimators': 6}\n"
     ]
    }
   ],
   "source": [
    "best = fmin(\n",
    "    fn=objective_function,\n",
    "    space=search_space,\n",
    "    algo=tpe.suggest,\n",
    "    max_evals=50\n",
    ")\n",
    "print(best)"
   ]
  },
  {
   "cell_type": "code",
   "execution_count": null,
   "id": "372c337f-665b-4e20-bab5-976a9f013290",
   "metadata": {},
   "outputs": [],
   "source": []
  },
  {
   "cell_type": "code",
   "execution_count": null,
   "id": "992f38d6-7576-4ee6-a509-b637c261f59c",
   "metadata": {},
   "outputs": [],
   "source": []
  },
  {
   "cell_type": "code",
   "execution_count": 63,
   "id": "08f4a60a-62db-4c1d-b076-88f88ca397f8",
   "metadata": {},
   "outputs": [],
   "source": [
    "from bayes_opt import BayesianOptimization"
   ]
  },
  {
   "cell_type": "code",
   "execution_count": null,
   "id": "c07fc525-a6af-4906-85e4-cdd789f9d052",
   "metadata": {},
   "outputs": [],
   "source": [
    "def f()"
   ]
  },
  {
   "cell_type": "markdown",
   "id": "e3a7829f-7363-4a45-aed3-3da0fc28b93e",
   "metadata": {},
   "source": [
    "---\n",
    "*&#9829; By Quang Hung x Thuy Linh &#9829;*"
   ]
  },
  {
   "cell_type": "code",
   "execution_count": null,
   "id": "1ef9c57e-d456-465e-8e68-ff9bdf3a3d29",
   "metadata": {},
   "outputs": [],
   "source": []
  }
 ],
 "metadata": {
  "kernelspec": {
   "display_name": "Python 3",
   "language": "python",
   "name": "python3"
  },
  "language_info": {
   "codemirror_mode": {
    "name": "ipython",
    "version": 3
   },
   "file_extension": ".py",
   "mimetype": "text/x-python",
   "name": "python",
   "nbconvert_exporter": "python",
   "pygments_lexer": "ipython3",
   "version": "3.8.8"
  }
 },
 "nbformat": 4,
 "nbformat_minor": 5
}
